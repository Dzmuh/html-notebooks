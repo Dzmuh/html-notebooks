{
 "cells": [
  {
   "cell_type": "markdown",
   "metadata": {},
   "source": [
    "# 1-Line Layouts\n",
    "\n",
    "10 Modern CSS layout and sizing techniques that highlight just how robust and impactful a single-line of styling code can be.\n",
    "\n",
    "Десять современных макетов в одной строке CSS.\n",
    "\n",
    "[Watch the Video](https://www.youtube.com/watch?v=qm0IfG1GyZU)\n",
    "\n",
    "Источники:\n",
    "\n",
    "- Оригинальная статья: [1-Line Layouts](https://1linelayouts.glitch.me/)\n",
    "- [Десять современных макетов в одной строке CSS  |  Articles  |  web.dev](https://web.dev/articles/one-line-layouts?hl=ru)\n"
   ]
  },
  {
   "cell_type": "markdown",
   "metadata": {},
   "source": [
    "## Super Centered\n",
    "\n",
    "Полный пример: [super-centered.html](super-centered.html)"
   ]
  },
  {
   "cell_type": "code",
   "execution_count": 10,
   "metadata": {
    "dotnet_interactive": {
     "language": "html"
    },
    "polyglot_notebook": {
     "kernelName": "html"
    },
    "vscode": {
     "languageId": "polyglot-notebook"
    }
   },
   "outputs": [
    {
     "data": {
      "text/html": [
       "<link rel=\"stylesheet\" href=\"./main.css\" />\r\n",
       "<style>\r\n",
       ".ex1 .parent {\r\n",
       "    display: grid;\r\n",
       "    place-items: center;\r\n",
       "}\r\n",
       "</style>\r\n",
       "<div class=\"ex1\">\r\n",
       "  <div class=\"parent blue\" >\r\n",
       "      <div class=\"box coral\" contenteditable>\r\n",
       "        :)\r\n",
       "      </div>\r\n",
       "  </div>\r\n",
       "</div>"
      ]
     },
     "metadata": {},
     "output_type": "display_data"
    }
   ],
   "source": [
    "<link rel=\"stylesheet\" href=\"./main.css\" />\n",
    "<style>\n",
    ".ex1 .parent {\n",
    "    display: grid;\n",
    "    place-items: center;\n",
    "}\n",
    "</style>\n",
    "<div class=\"ex1\">\n",
    "  <div class=\"parent blue\" >\n",
    "      <div class=\"box coral\" contenteditable>\n",
    "        :)\n",
    "      </div>\n",
    "  </div>\n",
    "</div>"
   ]
  }
 ],
 "metadata": {
  "kernelspec": {
   "display_name": ".NET (C#)",
   "language": "C#",
   "name": ".net-csharp"
  },
  "language_info": {
   "name": "python"
  },
  "polyglot_notebook": {
   "kernelInfo": {
    "defaultKernelName": "csharp",
    "items": [
     {
      "aliases": [],
      "name": "csharp"
     }
    ]
   }
  }
 },
 "nbformat": 4,
 "nbformat_minor": 2
}
