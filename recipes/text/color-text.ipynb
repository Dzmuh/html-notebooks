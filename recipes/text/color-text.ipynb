{
 "cells": [
  {
   "cell_type": "markdown",
   "metadata": {},
   "source": [
    "# Как выделить цветом фрагмент текста?\n",
    "\n",
    "Для изменения цвета фрагмента текста создайте класс с произвольным именем (например, `select`) и установите для него стилевое свойство `color` с желаемым значением цвета. После чего выделение фрагмента текста происходит с помощью элемента `<span>`, к которому добавляется класс `select`.\n",
    "\n",
    "В примере 1 использовано два класса для выделения текста разным цветом — красным и синим."
   ]
  },
  {
   "cell_type": "markdown",
   "metadata": {},
   "source": [
    "### Пример 1. Выделение фрагмента текста цветом"
   ]
  },
  {
   "cell_type": "code",
   "execution_count": 1,
   "metadata": {
    "dotnet_interactive": {
     "language": "html"
    },
    "polyglot_notebook": {
     "kernelName": "html"
    },
    "vscode": {
     "languageId": "polyglot-notebook"
    }
   },
   "outputs": [
    {
     "data": {
      "text/html": [
       "<style>\r\n",
       "    .cout { color: red; }\r\n",
       "    .cin { color: blue; }\r\n",
       "</style>\r\n",
       "\r\n",
       "<pre>#include &lt;iostream&gt;\r\n",
       "using namespace std;\r\n",
       "\r\n",
       "int main() {\r\n",
       "  unsigned int n;\r\n",
       "  unsigned long long factorial = 1;\r\n",
       "  <span class=\"cout\">cout &lt;&lt; \"Enter a positive integer: \";</span>\r\n",
       "  <span class=\"cin\">cin &gt;&gt; n;</span>\r\n",
       "  for(int i = 1; i &lt;=n; ++i) {\r\n",
       "    factorial *= i;\r\n",
       "  }\r\n",
       "  <span class=\"cout\">cout &lt;&lt; \"Factorial of \" &lt;&lt; n &lt;&lt; \" = \" &lt;&lt; factorial;</span>\r\n",
       "  return 0;\r\n",
       "}</pre>"
      ]
     },
     "metadata": {},
     "output_type": "display_data"
    }
   ],
   "source": [
    "<style>\n",
    "    .cout { color: red; }\n",
    "    .cin { color: blue; }\n",
    "</style>\n",
    "\n",
    "<pre>#include &lt;iostream&gt;\n",
    "using namespace std;\n",
    "\n",
    "int main() {\n",
    "  unsigned int n;\n",
    "  unsigned long long factorial = 1;\n",
    "  <span class=\"cout\">cout &lt;&lt; \"Enter a positive integer: \";</span>\n",
    "  <span class=\"cin\">cin &gt;&gt; n;</span>\n",
    "  for(int i = 1; i &lt;=n; ++i) {\n",
    "    factorial *= i;\n",
    "  }\n",
    "  <span class=\"cout\">cout &lt;&lt; \"Factorial of \" &lt;&lt; n &lt;&lt; \" = \" &lt;&lt; factorial;</span>\n",
    "  return 0;\n",
    "}</pre>"
   ]
  }
 ],
 "metadata": {
  "kernelspec": {
   "display_name": ".NET (C#)",
   "language": "C#",
   "name": ".net-csharp"
  },
  "language_info": {
   "name": "python"
  },
  "polyglot_notebook": {
   "kernelInfo": {
    "defaultKernelName": "csharp",
    "items": [
     {
      "aliases": [],
      "name": "csharp"
     }
    ]
   }
  }
 },
 "nbformat": 4,
 "nbformat_minor": 2
}
