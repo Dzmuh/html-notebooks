{
 "cells": [
  {
   "cell_type": "markdown",
   "metadata": {},
   "source": [
    "# Как задать цвет выделения текста?\n",
    "\n",
    "Выделение обычно применяется для копирования в буфер фрагмента текста, чтобы после этого вставить выделенный фрагмент в другое место. Например, в текстовый редактор для дальнейшей правки текста. Сам цвет и фон выделенного фрагмента определяется настройками операционной системы, но с помощью CSS эти параметры можно задать самостоятельно.\n",
    "\n",
    "Чтобы указать цвет и фон выделенного текста применяется псевдоэлемент `::selection`, в котором задаются свойства `color` и `background`, как показано в примере 1."
   ]
  },
  {
   "cell_type": "markdown",
   "metadata": {},
   "source": [
    "### Пример 1. Цвет выделенного текста"
   ]
  },
  {
   "cell_type": "code",
   "execution_count": 1,
   "metadata": {
    "dotnet_interactive": {
     "language": "html"
    },
    "polyglot_notebook": {
     "kernelName": "html"
    },
    "vscode": {
     "languageId": "polyglot-notebook"
    }
   },
   "outputs": [
    {
     "data": {
      "text/html": [
       "<style>\r\n",
       "::selection {\r\n",
       "    background: #809778; /* Цвет фона */\r\n",
       "    color: #fff; /* Цвет текста */\r\n",
       "}\r\n",
       "</style>\r\n",
       "\r\n",
       "<p>\r\n",
       "    В условиях электромагнитных помех, неизбежных при полевых измерениях, не всегда можно опредлить, когда именно волна ненаблюдаемо стабилизирует кварк\r\n",
       "</p>"
      ]
     },
     "metadata": {},
     "output_type": "display_data"
    }
   ],
   "source": [
    "<style>\n",
    "::selection {\n",
    "    background: #809778; /* Цвет фона */\n",
    "    color: #fff; /* Цвет текста */\n",
    "}\n",
    "</style>\n",
    "\n",
    "<p>\n",
    "    В условиях электромагнитных помех, неизбежных при полевых измерениях, не всегда можно опредлить, когда именно волна ненаблюдаемо стабилизирует кварк\n",
    "</p>"
   ]
  }
 ],
 "metadata": {
  "kernelspec": {
   "display_name": ".NET (C#)",
   "language": "C#",
   "name": ".net-csharp"
  },
  "language_info": {
   "name": "python"
  },
  "polyglot_notebook": {
   "kernelInfo": {
    "defaultKernelName": "csharp",
    "items": [
     {
      "aliases": [],
      "name": "csharp"
     }
    ]
   }
  }
 },
 "nbformat": 4,
 "nbformat_minor": 2
}
