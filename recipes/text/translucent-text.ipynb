{
 "cells": [
  {
   "cell_type": "markdown",
   "metadata": {},
   "source": [
    "# Как сделать текст полупрозрачным?\n",
    "\n",
    "В CSS для определения полупрозрачного цвета есть специальный формат RGBA. Этот формат задаёт цвет в виде значений трёх компонент — красной, зелёной и синей, каждая из компонент меняется от 0 до 255. Четвёртым параметром идёт степень прозрачности этого цвета, задаётся от 0 до 1. Цвет в итоге может быть полностью прозрачным, полупрозрачным или полностью непрозрачным.\n",
    "\n",
    "С помощью функции `rgba()` мы можем не просто определить цвет текста, но и одновременно степень его прозрачности. Сама функция `rgba()` в качестве значения применяется к свойству `color`.\n",
    "\n",
    "Ниже представлены варианты определения цвета текста.\n",
    "\n",
    "```css\n",
    "color: rgba(0,0,0,0) /* Полностью прозрачный текст */\n",
    "color: rgba(0,0,0,1) /* Чёрный текст */\n",
    "color: rgba(0,0,0,0.5) /* Полупрозрачный чёрный текст */\n",
    "color: rgba(255,255,255,0.5) /* Полупрозрачный белый текст */\n",
    "color: rgba(237,28,36,0.8) /* Полупрозрачный красный текст */\n",
    "```\n",
    "\n",
    "В примере 1 показано создание двух блоков — для сравнения в первом блоке цвет задан белым через шестнадцатеричное значение, во втором блоке цвет задан через функцию rgba()."
   ]
  },
  {
   "cell_type": "markdown",
   "metadata": {},
   "source": [
    "### Пример 1. Использование rgba()"
   ]
  },
  {
   "cell_type": "code",
   "execution_count": 7,
   "metadata": {
    "dotnet_interactive": {
     "language": "html"
    },
    "polyglot_notebook": {
     "kernelName": "html"
    },
    "vscode": {
     "languageId": "polyglot-notebook"
    }
   },
   "outputs": [
    {
     "data": {
      "text/html": [
       "<style>\r\n",
       ".demo {\r\n",
       "    padding: 1.2em;\r\n",
       "}\r\n",
       ".demo > div {\r\n",
       "    background: #8dc63f; /* Цвет фона */\r\n",
       "    padding: 10px; /* Поля вокруг текста */\r\n",
       "    margin-bottom: 1rem; /* Расстояние снизу */\r\n",
       "    color: #fff; /* Белый цвет */\r\n",
       "}\r\n",
       ".demo > .semi {\r\n",
       "    color: rgba(255,255,255,0.8); /* Полупрозрачный цвет */\r\n",
       "}\r\n",
       "</style>\r\n",
       "<div class=\"demo\">\r\n",
       "    <div>Информационное сообщение</div> \r\n",
       "    <div class=\"semi\">Информационное сообщение</div>\r\n",
       "</div> "
      ]
     },
     "metadata": {},
     "output_type": "display_data"
    }
   ],
   "source": [
    "<style>\n",
    ".demo {\n",
    "    padding: 1.2em;\n",
    "}\n",
    ".demo > div {\n",
    "    background: #8dc63f; /* Цвет фона */\n",
    "    padding: 10px; /* Поля вокруг текста */\n",
    "    margin-bottom: 1rem; /* Расстояние снизу */\n",
    "    color: #fff; /* Белый цвет */\n",
    "}\n",
    ".demo > .semi {\n",
    "    color: rgba(255,255,255,0.8); /* Полупрозрачный цвет */\n",
    "}\n",
    "</style>\n",
    "<div class=\"demo\">\n",
    "    <div>Информационное сообщение</div> \n",
    "    <div class=\"semi\">Информационное сообщение</div>\n",
    "</div> "
   ]
  }
 ],
 "metadata": {
  "kernelspec": {
   "display_name": ".NET (C#)",
   "language": "C#",
   "name": ".net-csharp"
  },
  "language_info": {
   "name": "python"
  },
  "polyglot_notebook": {
   "kernelInfo": {
    "defaultKernelName": "csharp",
    "items": [
     {
      "aliases": [],
      "name": "csharp"
     }
    ]
   }
  }
 },
 "nbformat": 4,
 "nbformat_minor": 2
}
