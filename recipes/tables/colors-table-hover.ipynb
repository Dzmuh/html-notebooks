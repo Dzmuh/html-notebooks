{
 "cells": [
  {
   "cell_type": "markdown",
   "metadata": {},
   "source": [
    "# Как выделить цветом строку таблицы при наведении?\n",
    "\n",
    "Стиль строки таблицы при наведении на неё курсора мыши задаётся с помощью псевдокласса `:hover`, который добавляется к селектору `tr`. В правилах стиля добавляем свойство `background` для желаемого цвета фона и color для цвета текста."
   ]
  },
  {
   "cell_type": "markdown",
   "metadata": {},
   "source": [
    "## Пример 1\n",
    "\n",
    "В данном примере при наведении на строку у неё меняется цвет фона и текста."
   ]
  },
  {
   "cell_type": "code",
   "execution_count": 2,
   "metadata": {
    "dotnet_interactive": {
     "language": "html"
    },
    "polyglot_notebook": {
     "kernelName": "html"
    },
    "vscode": {
     "languageId": "polyglot-notebook"
    }
   },
   "outputs": [
    {
     "data": {
      "text/html": [
       "<style>\r\n",
       "table {\r\n",
       "    width: 100%; /* Ширина таблицы */\r\n",
       "    border-collapse: collapse; /* Убираем двойные линии между ячейками */\r\n",
       "}\r\n",
       "td, th {\r\n",
       "    padding: 3px; /* Поля вокруг содержимого таблицы */\r\n",
       "    border: 1px solid #333; /* Параметры рамки */\r\n",
       "}\r\n",
       "tr:hover {\r\n",
       "    background: #65994c; /* Цвет фона при наведении */\r\n",
       "    color: #fff; /* Цвет текста при наведении */\r\n",
       "}\r\n",
       "</style>\r\n",
       "\r\n",
       "<table>\r\n",
       "    <tr>\r\n",
       "        <td>Рубины</td>\r\n",
       "        <td>43</td>\r\n",
       "        <td>51</td>\r\n",
       "        <td>79</td>\r\n",
       "    </tr>\r\n",
       "    <tr>\r\n",
       "        <td>Изумруды</td>\r\n",
       "        <td>28</td>\r\n",
       "        <td>34</td>\r\n",
       "        <td>48</td>\r\n",
       "    </tr>\r\n",
       "    <tr>\r\n",
       "        <td>Сапфиры</td>\r\n",
       "        <td>29</td>\r\n",
       "        <td>57</td>\r\n",
       "        <td>36</td>\r\n",
       "    </tr>\r\n",
       "</table>"
      ]
     },
     "metadata": {},
     "output_type": "display_data"
    }
   ],
   "source": [
    "<style>\n",
    "table {\n",
    "    width: 100%; /* Ширина таблицы */\n",
    "    border-collapse: collapse; /* Убираем двойные линии между ячейками */\n",
    "}\n",
    "td, th {\n",
    "    padding: 3px; /* Поля вокруг содержимого таблицы */\n",
    "    border: 1px solid #333; /* Параметры рамки */\n",
    "}\n",
    "tr:hover {\n",
    "    background: #65994c; /* Цвет фона при наведении */\n",
    "    color: #fff; /* Цвет текста при наведении */\n",
    "}\n",
    "</style>\n",
    "\n",
    "<table>\n",
    "    <tr>\n",
    "        <td>Рубины</td>\n",
    "        <td>43</td>\n",
    "        <td>51</td>\n",
    "        <td>79</td>\n",
    "    </tr>\n",
    "    <tr>\n",
    "        <td>Изумруды</td>\n",
    "        <td>28</td>\n",
    "        <td>34</td>\n",
    "        <td>48</td>\n",
    "    </tr>\n",
    "    <tr>\n",
    "        <td>Сапфиры</td>\n",
    "        <td>29</td>\n",
    "        <td>57</td>\n",
    "        <td>36</td>\n",
    "    </tr>\n",
    "</table>"
   ]
  },
  {
   "cell_type": "markdown",
   "metadata": {},
   "source": [
    "## А что делать если у таблицы есть заголовок?\n",
    "\n",
    "Если у таблицы содержится заголовок, что встречается довольно часто, то строка с заголовком также будет выделяться при наведении, а это может быть нежелательным. Для выделения только нужных строк следует модифицировать таблицу, вставив элементы `<thead>` и `<tbody>` и к селектору добавив `tbody`."
   ]
  },
  {
   "cell_type": "code",
   "execution_count": 4,
   "metadata": {
    "dotnet_interactive": {
     "language": "html"
    },
    "polyglot_notebook": {
     "kernelName": "html"
    },
    "vscode": {
     "languageId": "polyglot-notebook"
    }
   },
   "outputs": [
    {
     "data": {
      "text/html": [
       "<style>\r\n",
       "table {\r\n",
       "    width: 100%; /* Ширина таблицы */\r\n",
       "    border-collapse: collapse; /* Убираем двойные линии между ячейками */\r\n",
       "}\r\n",
       "td, th {\r\n",
       "    padding: 3px; /* Поля вокруг содержимого таблицы */\r\n",
       "    border: 1px solid #333; /* Параметры рамки */\r\n",
       "}\r\n",
       "th {\r\n",
       "    background: #cadadd; /* Цвет фона заголовка */\r\n",
       "}\r\n",
       "tbody tr:hover {\r\n",
       "    background: #65994c; /* Цвет фона при наведении */\r\n",
       "    color: #fff; /* Цвет текста при наведении */\r\n",
       "}\r\n",
       "</style>\r\n",
       "\r\n",
       "<table>\r\n",
       "    <thead>\r\n",
       "        <tr>\r\n",
       "            <th></th>\r\n",
       "            <th>2024</th>\r\n",
       "            <th>2025</th>\r\n",
       "            <th>2026</th>\r\n",
       "        </tr>\r\n",
       "    </thead>\r\n",
       "    <tbody>\r\n",
       "        <tr>\r\n",
       "            <td>Рубины</td>\r\n",
       "            <td>43</td>\r\n",
       "            <td>51</td>\r\n",
       "            <td>79</td>\r\n",
       "        </tr>\r\n",
       "        <tr>\r\n",
       "            <td>Изумруды</td>\r\n",
       "            <td>28</td>\r\n",
       "            <td>34</td>\r\n",
       "            <td>48</td>\r\n",
       "        </tr>\r\n",
       "        <tr>\r\n",
       "            <td>Сапфиры</td>\r\n",
       "            <td>29</td>\r\n",
       "            <td>57</td>\r\n",
       "            <td>36</td>\r\n",
       "        </tr>\r\n",
       "    </tbody>\r\n",
       "</table>"
      ]
     },
     "metadata": {},
     "output_type": "display_data"
    }
   ],
   "source": [
    "<style>\n",
    "table {\n",
    "    width: 100%; /* Ширина таблицы */\n",
    "    border-collapse: collapse; /* Убираем двойные линии между ячейками */\n",
    "}\n",
    "td, th {\n",
    "    padding: 3px; /* Поля вокруг содержимого таблицы */\n",
    "    border: 1px solid #333; /* Параметры рамки */\n",
    "}\n",
    "th {\n",
    "    background: #cadadd; /* Цвет фона заголовка */\n",
    "}\n",
    "tbody tr:hover {\n",
    "    background: #65994c; /* Цвет фона при наведении */\n",
    "    color: #fff; /* Цвет текста при наведении */\n",
    "}\n",
    "</style>\n",
    "\n",
    "<table>\n",
    "    <thead>\n",
    "        <tr>\n",
    "            <th></th>\n",
    "            <th>2024</th>\n",
    "            <th>2025</th>\n",
    "            <th>2026</th>\n",
    "        </tr>\n",
    "    </thead>\n",
    "    <tbody>\n",
    "        <tr>\n",
    "            <td>Рубины</td>\n",
    "            <td>43</td>\n",
    "            <td>51</td>\n",
    "            <td>79</td>\n",
    "        </tr>\n",
    "        <tr>\n",
    "            <td>Изумруды</td>\n",
    "            <td>28</td>\n",
    "            <td>34</td>\n",
    "            <td>48</td>\n",
    "        </tr>\n",
    "        <tr>\n",
    "            <td>Сапфиры</td>\n",
    "            <td>29</td>\n",
    "            <td>57</td>\n",
    "            <td>36</td>\n",
    "        </tr>\n",
    "    </tbody>\n",
    "</table>"
   ]
  }
 ],
 "metadata": {
  "kernelspec": {
   "display_name": ".NET (C#)",
   "language": "C#",
   "name": ".net-csharp"
  },
  "language_info": {
   "name": "python",
   "version": "3.12.4"
  },
  "polyglot_notebook": {
   "kernelInfo": {
    "defaultKernelName": "csharp",
    "items": [
     {
      "aliases": [],
      "name": "csharp"
     }
    ]
   }
  }
 },
 "nbformat": 4,
 "nbformat_minor": 2
}
