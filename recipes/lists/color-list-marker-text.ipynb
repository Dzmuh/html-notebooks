{
 "cells": [
  {
   "cell_type": "markdown",
   "metadata": {},
   "source": [
    "# Как изменить цвет маркеров в списке?\n",
    "\n",
    "Существует два популярных способа изменения цвета маркеров, чтобы они отличались от цвета текста."
   ]
  },
  {
   "cell_type": "markdown",
   "metadata": {},
   "source": [
    "## Использование <span>\n",
    "\n",
    "Внутрь каждого элемента `<li>` вкладываем `<span>`, а уже внутрь него помещаем текст. Иными словами вместо традиционной схемы\n",
    "\n",
    "```html\n",
    "<li>текст</li>\n",
    "```\n",
    "\n",
    "создаем конструкцию\n",
    "\n",
    "```html\n",
    "<li><span>текст</span></li>\n",
    "```\n",
    "\n",
    "При этом цвет маркеров определяется стилевым свойством `color` для селектора `li`, а цвет текста — для селектора `span` (пример 1)."
   ]
  },
  {
   "cell_type": "markdown",
   "metadata": {},
   "source": [
    "### Пример 1. Использование вложенных тегов\n",
    "\n",
    "Очистите все выходные данные перед запуском кода, стили примеров пересекаются."
   ]
  },
  {
   "cell_type": "code",
   "execution_count": null,
   "metadata": {
    "dotnet_interactive": {
     "language": "html"
    },
    "polyglot_notebook": {
     "kernelName": "html"
    },
    "vscode": {
     "languageId": "polyglot-notebook"
    }
   },
   "outputs": [],
   "source": [
    "<style>\n",
    "li {\n",
    "    color: red; /* Цвет маркеров */\n",
    "}\n",
    "li span {\n",
    "    color: green; /* Цвет текста */\n",
    "}\n",
    "</style>\n",
    "\n",
    "<ul>\n",
    "    <li><span>Скрипка</span></li>\n",
    "    <li><span>Гитара</span></li>\n",
    "    <li><span>Волынка</span></li>\n",
    "    <li><span>Шарманка</span></li>\n",
    "    <li><span>Челеста</span></li>\n",
    "</ul>"
   ]
  },
  {
   "cell_type": "markdown",
   "metadata": {},
   "source": [
    "Несмотря на простоту, метод неудобен, особенно при объёмных списках, ведь к каждому пункту списка теперь придётся добавлять `<span>`."
   ]
  },
  {
   "cell_type": "markdown",
   "metadata": {},
   "source": [
    "## Использование `::before`\n",
    "\n",
    "Смысл в следующем — убираем оригинальные маркеры списка через свойство `list-style-type` и добавляем свои собственные маркеры с помощью псевдоэлемента `::before` и свойства `content`. Такая связка позволяет вставлять любой текст или символ перед элементом, в данном случае `<li>`. Причём видом текста (цвет, шрифт, фон и др.) также можно управлять через стили, что и продемонстрировано в примере 2."
   ]
  },
  {
   "cell_type": "markdown",
   "metadata": {},
   "source": [
    "### Пример 2. Использование псевдоэлемента `::before`\n",
    "\n",
    "Очистите все выходные данные перед запуском кода, стили примеров пересекаются."
   ]
  },
  {
   "cell_type": "code",
   "execution_count": 11,
   "metadata": {
    "dotnet_interactive": {
     "language": "html"
    },
    "polyglot_notebook": {
     "kernelName": "html"
    },
    "vscode": {
     "languageId": "polyglot-notebook"
    }
   },
   "outputs": [
    {
     "data": {
      "text/html": [
       "<style>\r\n",
       "li {\r\n",
       "    list-style-type: none; /* Прячем исходные маркеры */\r\n",
       "}\r\n",
       "li::before {\r\n",
       "    color: red; /* Цвет маркера */\r\n",
       "    content: \"▪\"; /* Сам маркер */\r\n",
       "    padding-right: 10px; /* Расстояние от маркера до текста */\r\n",
       "}\r\n",
       "</style>\r\n",
       "\r\n",
       "<ul>\r\n",
       "    <li>Север</li>\r\n",
       "    <li>Юг</li>\r\n",
       "    <li>Запад</li>\r\n",
       "    <li>Восток</li>\r\n",
       "</ul>"
      ]
     },
     "metadata": {},
     "output_type": "display_data"
    }
   ],
   "source": [
    "<style>\n",
    "li {\n",
    "    list-style-type: none; /* Прячем исходные маркеры */\n",
    "}\n",
    "li::before {\n",
    "    color: red; /* Цвет маркера */\n",
    "    content: \"▪\"; /* Сам маркер */\n",
    "    padding-right: 10px; /* Расстояние от маркера до текста */\n",
    "}\n",
    "</style>\n",
    "\n",
    "<ul>\n",
    "    <li>Север</li>\n",
    "    <li>Юг</li>\n",
    "    <li>Запад</li>\n",
    "    <li>Восток</li>\n",
    "</ul>"
   ]
  }
 ],
 "metadata": {
  "kernelspec": {
   "display_name": ".NET (C#)",
   "language": "C#",
   "name": ".net-csharp"
  },
  "language_info": {
   "name": "python"
  },
  "polyglot_notebook": {
   "kernelInfo": {
    "defaultKernelName": "csharp",
    "items": [
     {
      "aliases": [],
      "name": "csharp"
     }
    ]
   }
  }
 },
 "nbformat": 4,
 "nbformat_minor": 2
}
