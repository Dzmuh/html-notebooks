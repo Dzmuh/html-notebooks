{
 "cells": [
  {
   "cell_type": "markdown",
   "metadata": {},
   "source": [
    "# Как изменить цвет текста в списке?\n",
    "\n",
    "Для изменения цвета текста в списке используйте стилевое свойство `color`, добавляя его к селектору `ul`, `ol` или `li`, как показано в примере 1."
   ]
  },
  {
   "cell_type": "markdown",
   "metadata": {},
   "source": [
    "### Пример 1. Цвет фона в списке"
   ]
  },
  {
   "cell_type": "code",
   "execution_count": 1,
   "metadata": {
    "dotnet_interactive": {
     "language": "html"
    },
    "polyglot_notebook": {
     "kernelName": "html"
    },
    "vscode": {
     "languageId": "polyglot-notebook"
    }
   },
   "outputs": [
    {
     "data": {
      "text/html": [
       "<style>\r\n",
       "li {\r\n",
       "    color: green; /* Цвет текста */\r\n",
       "}\r\n",
       "</style>\r\n",
       "\r\n",
       "<ul>\r\n",
       "    <li>Лисичка</li>\r\n",
       "    <li>Бобр</li>\r\n",
       "    <li>Белка</li>\r\n",
       "</ul>"
      ]
     },
     "metadata": {},
     "output_type": "display_data"
    }
   ],
   "source": [
    "<style>\n",
    "li {\n",
    "    color: green; /* Цвет текста */\n",
    "}\n",
    "</style>\n",
    "\n",
    "<ul>\n",
    "    <li>Лисичка</li>\n",
    "    <li>Бобр</li>\n",
    "    <li>Белка</li>\n",
    "</ul>"
   ]
  }
 ],
 "metadata": {
  "kernelspec": {
   "display_name": ".NET (C#)",
   "language": "C#",
   "name": ".net-csharp"
  },
  "language_info": {
   "name": "python"
  },
  "polyglot_notebook": {
   "kernelInfo": {
    "defaultKernelName": "csharp",
    "items": [
     {
      "aliases": [],
      "name": "csharp"
     }
    ]
   }
  }
 },
 "nbformat": 4,
 "nbformat_minor": 2
}
