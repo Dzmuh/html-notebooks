{
 "cells": [
  {
   "cell_type": "markdown",
   "metadata": {},
   "source": [
    "# Как добавить рамку к изображению?\n",
    "\n",
    "Для добавления рамки к изображению применяется стилевое свойство `border`, которое следует добавить к селектору `img`.\n",
    "В качестве значения одновременно указывается толщина рамки, её стиль и цвет. Например, для создания сплошной рамки толщиной два пикселя красного цвета необходимо записать border: `2px solid red`. В примере 1 приведён полный код для добавления рамки к изображениям на странице."
   ]
  },
  {
   "cell_type": "markdown",
   "metadata": {},
   "source": [
    "### Пример 1. Добавление рамки\n",
    "\n",
    "Для корректного отображения примера, очистите все выходные данные и выполните пример (стили примеров перекрывают друг друга.)"
   ]
  },
  {
   "cell_type": "code",
   "execution_count": 17,
   "metadata": {
    "dotnet_interactive": {
     "language": "html"
    },
    "polyglot_notebook": {
     "kernelName": "html"
    },
    "vscode": {
     "languageId": "polyglot-notebook"
    }
   },
   "outputs": [
    {
     "data": {
      "text/html": [
       "<style>\r\n",
       "img {\r\n",
       "    border: 3px solid green; /* Параметры рамки */\r\n",
       "}\r\n",
       "</style>\r\n",
       "\r\n",
       "<img src=\"../../images/lisa.png\" alt=\"Лисичка\">"
      ]
     },
     "metadata": {},
     "output_type": "display_data"
    }
   ],
   "source": [
    "<style>\n",
    "img {\n",
    "    border: 3px solid green; /* Параметры рамки */\n",
    "}\n",
    "</style>\n",
    "\n",
    "<img src=\"../../images/lisa.png\" alt=\"Лисичка\">"
   ]
  },
  {
   "cell_type": "markdown",
   "metadata": {},
   "source": [
    "В данном случае рамка будет добавляться ко всем изображениям на странице. Чтобы установить рамку только для выбранных рисунков, можно воспользоваться стилевым классом, указывая его для определенных элементов <img> (пример 2)."
   ]
  },
  {
   "cell_type": "markdown",
   "metadata": {},
   "source": [
    "### Пример 2. Добавление рамки к избранным рисункам\n",
    "\n",
    "В данном примере введён стилевой класс `frame`, который добавляется к выбранным рисункам с помощью атрибута `class`."
   ]
  },
  {
   "cell_type": "code",
   "execution_count": 18,
   "metadata": {
    "dotnet_interactive": {
     "language": "html"
    },
    "polyglot_notebook": {
     "kernelName": "html"
    },
    "vscode": {
     "languageId": "polyglot-notebook"
    }
   },
   "outputs": [
    {
     "data": {
      "text/html": [
       "<style>\r\n",
       "    img {\r\n",
       "        border: none;\r\n",
       "    }\r\n",
       "    .frame {\r\n",
       "        border: 3px solid green; /* Параметры рамки */\r\n",
       "    }\r\n",
       "</style>\r\n",
       "\r\n",
       "<img src=\"../../images/ptach.png\" alt=\"Птичка\">\r\n",
       "<img src=\"../../images/ptach.png\" alt=\"Птичка\" class=\"frame\">"
      ]
     },
     "metadata": {},
     "output_type": "display_data"
    }
   ],
   "source": [
    "<style>\n",
    "    img {\n",
    "        border: none;\n",
    "    }\n",
    "    .frame {\n",
    "        border: 3px solid green; /* Параметры рамки */\n",
    "    }\n",
    "</style>\n",
    "\n",
    "<img src=\"../../images/ptach.png\" alt=\"Птичка\">\n",
    "<img src=\"../../images/ptach.png\" alt=\"Птичка\" class=\"frame\">"
   ]
  }
 ],
 "metadata": {
  "kernelspec": {
   "display_name": ".NET (C#)",
   "language": "C#",
   "name": ".net-csharp"
  },
  "language_info": {
   "name": "python"
  },
  "polyglot_notebook": {
   "kernelInfo": {
    "defaultKernelName": "csharp",
    "items": [
     {
      "aliases": [],
      "name": "csharp"
     }
    ]
   }
  }
 },
 "nbformat": 4,
 "nbformat_minor": 2
}
