{
 "cells": [
  {
   "cell_type": "markdown",
   "metadata": {},
   "source": [
    "# Как добавить тень к изображению?\n",
    "\n",
    "Вид тени под изображением зависит от наличия в нём прозрачных участков — если они есть, то тень станет выделять контуры картинки.\n",
    "Для изображения без прозрачности тень будет в виде прямоугольника.\n",
    "\n",
    "В зависимости от типа изображения и желаемого результата, рассмотрим несколько способов добавления тени."
   ]
  },
  {
   "cell_type": "markdown",
   "metadata": {},
   "source": [
    "## Использование функции drop-shadow()\n",
    "\n",
    "Стилевая функция `drop-shadow()` позволяет добавлять тень к изображению с поддержкой прозрачности (PNG, WebP, GIF) и даже к SVG. Сама функция выступает как значение свойства `filter` и содержит ряд параметров, управляющих положением и видом тени: \n",
    "\n",
    "![Параметры drop-shadow()](../../images/drop-shadow.svg \"Параметры drop-shadow()\")\n",
    "\n",
    "Первые два параметра устанавливают положение тени — положительные значения смещают тень вправо и вниз, отрицательные значения влево и вверх. Третий параметр управляет размытием тени, чем больше значение, тем «мягче» тень. Последний параметр задаёт цвет тени в любом формате цвета CSS. К примеру, функция `rgba()` позволяет сделать тень полупрозрачной.\n",
    "\n",
    "В примере 1 `drop-shadow()` применяется к картинке в формате SVG."
   ]
  },
  {
   "cell_type": "markdown",
   "metadata": {},
   "source": [
    "### Пример 1. Свойство `filter` и функция `drop-shadow()`"
   ]
  },
  {
   "cell_type": "code",
   "execution_count": 11,
   "metadata": {
    "dotnet_interactive": {
     "language": "html"
    },
    "polyglot_notebook": {
     "kernelName": "html"
    },
    "vscode": {
     "languageId": "polyglot-notebook"
    }
   },
   "outputs": [
    {
     "data": {
      "text/html": [
       "<style>\r\n",
       "div.image-sample {\r\n",
       "    background-color: #ccc; /* Цвет фона для блока с примером*/\r\n",
       "    padding: 1.5rem; /* Поля*/\r\n",
       "}\r\n",
       ".shadow-1 {\r\n",
       "    filter: drop-shadow(0 0 5px rgba(0,0,0,0.5)); /* Параметры тени */\r\n",
       "}\r\n",
       "</style>\r\n",
       "\r\n",
       "<div class=\"image-sample\">\r\n",
       "    <img src=\"../../images/search.svg\" alt=\"\" width=\"100\">\r\n",
       "    <img src=\"../../images/search.svg\" alt=\"\" width=\"100\" class=\"shadow-1\">\r\n",
       "</div>"
      ]
     },
     "metadata": {},
     "output_type": "display_data"
    }
   ],
   "source": [
    "<style>\n",
    "div.image-sample {\n",
    "    background-color: #ccc; /* Цвет фона для блока с примером*/\n",
    "    padding: 1.5rem; /* Поля*/\n",
    "}\n",
    ".shadow-1 {\n",
    "    filter: drop-shadow(0 0 5px rgba(0,0,0,0.5)); /* Параметры тени */\n",
    "}\n",
    "</style>\n",
    "\n",
    "<div class=\"image-sample\">\n",
    "    <img src=\"../../images/search.svg\" alt=\"\" width=\"100\">\n",
    "    <img src=\"../../images/search.svg\" alt=\"\" width=\"100\" class=\"shadow-1\">\n",
    "</div>"
   ]
  },
  {
   "cell_type": "markdown",
   "metadata": {},
   "source": [
    "В данном примере используется класс `.shadow`, добавление которого к элементу `<img>` создаёт тень желаемого вида."
   ]
  },
  {
   "cell_type": "markdown",
   "metadata": {},
   "source": [
    "## Использование `box-shadow`\n",
    "\n",
    "Свойство `box-shadow` добавляет прямоугольную тень к элементу. Оно работает самостоятельно и по своим параметрам похожа на функцию `drop-shadow()`.\n",
    "\n",
    "![Параметры box-shadow](../../images/box-shadow.svg \"Параметры box-shadow\")\n",
    "\n",
    "В примере 2 показано добавление тени к одному из двух изображений."
   ]
  },
  {
   "cell_type": "markdown",
   "metadata": {},
   "source": [
    "### Пример 2. Свойство box-shadow"
   ]
  },
  {
   "cell_type": "code",
   "execution_count": 12,
   "metadata": {
    "dotnet_interactive": {
     "language": "html"
    },
    "polyglot_notebook": {
     "kernelName": "html"
    },
    "vscode": {
     "languageId": "polyglot-notebook"
    }
   },
   "outputs": [
    {
     "data": {
      "text/html": [
       "<style>\r\n",
       ".card {\r\n",
       "    margin: 0 1em 1em 0; /* Расстояние между картинками */\r\n",
       "}\r\n",
       ".shadow-2 {\r\n",
       "    box-shadow: 0 0 10px rgba(0,0,0,0.8); /* Параметры тени */\r\n",
       "}\r\n",
       "</style>\r\n",
       "\r\n",
       "<img src=\"../../images/belka.png\" alt=\"\" class=\"card shadow-2\">\r\n",
       "<img src=\"../../images/bobr.png\" alt=\"\" class=\"card\">"
      ]
     },
     "metadata": {},
     "output_type": "display_data"
    }
   ],
   "source": [
    "<style>\n",
    ".card {\n",
    "    margin: 0 1em 1em 0; /* Расстояние между картинками */\n",
    "}\n",
    ".shadow-2 {\n",
    "    box-shadow: 0 0 10px rgba(0,0,0,0.8); /* Параметры тени */\n",
    "}\n",
    "</style>\n",
    "\n",
    "<img src=\"../../images/belka.png\" alt=\"\" class=\"card shadow-2\">\n",
    "<img src=\"../../images/bobr.png\" alt=\"\" class=\"card\">"
   ]
  }
 ],
 "metadata": {
  "kernelspec": {
   "display_name": ".NET (C#)",
   "language": "C#",
   "name": ".net-csharp"
  },
  "language_info": {
   "name": "python"
  },
  "polyglot_notebook": {
   "kernelInfo": {
    "defaultKernelName": "csharp",
    "items": [
     {
      "aliases": [],
      "name": "csharp"
     }
    ]
   }
  }
 },
 "nbformat": 4,
 "nbformat_minor": 2
}
