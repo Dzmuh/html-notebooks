{
 "cells": [
  {
   "cell_type": "markdown",
   "metadata": {},
   "source": [
    "# Как изменить вид нажатой кнопки?\n",
    "\n",
    "Чтобы пользователь понимал, что его щелчок по кнопке сработал, в момент щелчка меняют вид самой кнопки. Для этого используется псевдокласс `:active`, который добавляется к селектору `button`. Стилевые правила для этого селектора определяют вид нажатой кнопки (пример 1).\n",
    "\n",
    "### Пример 1. Использование `:active`"
   ]
  },
  {
   "cell_type": "code",
   "execution_count": 1,
   "metadata": {
    "dotnet_interactive": {
     "language": "html"
    },
    "polyglot_notebook": {
     "kernelName": "html"
    },
    "vscode": {
     "languageId": "polyglot-notebook"
    }
   },
   "outputs": [
    {
     "data": {
      "text/html": [
       "<style>\r\n",
       "button {\r\n",
       "    border: 2px solid #e34761; /* Параметры рамки */\r\n",
       "    background: #f3dbdf; /* Цвет фона */\r\n",
       "    padding: 0.5em 1.5em; /* Поля вокруг текста */\r\n",
       "}\r\n",
       "button:active {\r\n",
       "    box-shadow: inset 0 0 5px rgba(0, 0, 0, .5);\r\n",
       "}\r\n",
       "</style>\r\n",
       "\r\n",
       "<button>Кнопка</button>\r\n",
       "<button>Кнопка</button>"
      ]
     },
     "metadata": {},
     "output_type": "display_data"
    }
   ],
   "source": [
    "<style>\n",
    "button {\n",
    "    border: 2px solid #e34761; /* Параметры рамки */\n",
    "    background: #f3dbdf; /* Цвет фона */\n",
    "    padding: 0.5em 1.5em; /* Поля вокруг текста */\n",
    "}\n",
    "button:active {\n",
    "    box-shadow: inset 0 0 5px rgba(0, 0, 0, .5);\n",
    "}\n",
    "</style>\n",
    "\n",
    "<button>Кнопка</button>\n",
    "<button>Кнопка</button>"
   ]
  }
 ],
 "metadata": {
  "kernelspec": {
   "display_name": ".NET (C#)",
   "language": "C#",
   "name": ".net-csharp"
  },
  "language_info": {
   "name": "python"
  },
  "polyglot_notebook": {
   "kernelInfo": {
    "defaultKernelName": "csharp",
    "items": [
     {
      "aliases": [],
      "name": "csharp"
     }
    ]
   }
  }
 },
 "nbformat": 4,
 "nbformat_minor": 2
}
