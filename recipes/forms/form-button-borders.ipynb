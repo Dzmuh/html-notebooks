{
 "cells": [
  {
   "cell_type": "markdown",
   "metadata": {},
   "source": [
    "# Как добавить рамку вокруг кнопки?\n",
    "\n",
    "Кнопки создаются с помощью элементов `<button>` или `<input>`, при этом вид кнопки меняется от браузера к браузеру. Если задать цвет фона у кнопки через свойство `background-color` (или `background`), то к кнопке автоматически добавляется трёхмерная рамка. Чтобы получить одинаковый вид в разных браузерах, для селектора `button` следует убрать рамку через свойство `border` со значением `none` или, наоборот, добавить свою рамку через то же свойство.\n",
    "\n",
    "В примере 1 показана исходная кнопка, кнопка с цветным фоном, кнопка без рамки, кнопка с фоном и рамкой.\n",
    "\n",
    "### Пример 1. Цветная кнопка"
   ]
  },
  {
   "cell_type": "code",
   "execution_count": 1,
   "metadata": {
    "dotnet_interactive": {
     "language": "html"
    },
    "polyglot_notebook": {
     "kernelName": "html"
    },
    "vscode": {
     "languageId": "polyglot-notebook"
    }
   },
   "outputs": [
    {
     "data": {
      "text/html": [
       "<style>\r\n",
       "button.bg {\r\n",
       "    background: #f3dbdf; /* Цвет фона */\r\n",
       "}\r\n",
       "button.noborder {\r\n",
       "    border: none; /* Убираем рамку */ \r\n",
       "}\r\n",
       "button.flat {\r\n",
       "    border: 2px solid #e34761; /* Параметры рамки */\r\n",
       "    background: #f3dbdf; /* Цвет фона */\r\n",
       "    padding: 0.5em 1em; /* Поля вокруг текста */\r\n",
       "}\r\n",
       "</style>\r\n",
       "\r\n",
       "<button>Исходная кнопка</button>\r\n",
       "<button class=\"bg\">Кнопка с фоном</button>\r\n",
       "<button class=\"bg noborder\">Кнопка без рамки</button>\r\n",
       "<button class=\"flat\">Кнопка с рамкой</button>"
      ]
     },
     "metadata": {},
     "output_type": "display_data"
    }
   ],
   "source": [
    "<style>\n",
    "button.bg {\n",
    "    background: #f3dbdf; /* Цвет фона */\n",
    "}\n",
    "button.noborder {\n",
    "    border: none; /* Убираем рамку */ \n",
    "}\n",
    "button.flat {\n",
    "    border: 2px solid #e34761; /* Параметры рамки */\n",
    "    background: #f3dbdf; /* Цвет фона */\n",
    "    padding: 0.5em 1em; /* Поля вокруг текста */\n",
    "}\n",
    "</style>\n",
    "\n",
    "<button>Исходная кнопка</button>\n",
    "<button class=\"bg\">Кнопка с фоном</button>\n",
    "<button class=\"bg noborder\">Кнопка без рамки</button>\n",
    "<button class=\"flat\">Кнопка с рамкой</button>"
   ]
  }
 ],
 "metadata": {
  "kernelspec": {
   "display_name": ".NET (C#)",
   "language": "C#",
   "name": ".net-csharp"
  },
  "language_info": {
   "name": "python"
  },
  "polyglot_notebook": {
   "kernelInfo": {
    "defaultKernelName": "csharp",
    "items": [
     {
      "aliases": [],
      "name": "csharp"
     }
    ]
   }
  }
 },
 "nbformat": 4,
 "nbformat_minor": 2
}
