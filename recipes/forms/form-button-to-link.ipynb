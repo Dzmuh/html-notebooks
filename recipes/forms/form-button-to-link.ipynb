{
 "cells": [
  {
   "cell_type": "markdown",
   "metadata": {},
   "source": [
    "# Как кнопку сделать ссылкой?\n",
    "\n",
    "Непосредственно кнопку нельзя сделать ссылкой, HTML запрещает комбинировать между собой элементы `<button>` (а также `<input>`) и `<a>`. Таким образом нельзя вкладывать кнопку в ссылку, а ссылку в кнопку. Есть три способа, как сделать так, чтобы при щелчке по кнопке происходило открытие веб-страницы."
   ]
  },
  {
   "cell_type": "markdown",
   "metadata": {},
   "source": [
    "## Использование HTML\n",
    "\n",
    "Кнопку `<button>` вкладываем внутрь элемента `<form>` и для формы указываем атрибут `action` с адресом веб-страницы (пример 1). Дополнительно можно добавить атрибут `target` со значением `_blank`, тогда веб-страница откроется в новой вкладке браузера."
   ]
  },
  {
   "cell_type": "markdown",
   "metadata": {},
   "source": [
    "### Пример 1. Атрибут `action`\n",
    "\n",
    "В этом примере при щелчке по кнопке открывается веб-страница в новой вкладке."
   ]
  },
  {
   "cell_type": "code",
   "execution_count": 1,
   "metadata": {
    "dotnet_interactive": {
     "language": "html"
    },
    "polyglot_notebook": {
     "kernelName": "html"
    },
    "vscode": {
     "languageId": "polyglot-notebook"
    }
   },
   "outputs": [
    {
     "data": {
      "text/html": [
       "<form action=\"https://github.com/\" target=\"_blank\">\r\n",
       "    <button>Переход по ссылке</button>\r\n",
       "</form>"
      ]
     },
     "metadata": {},
     "output_type": "display_data"
    }
   ],
   "source": [
    "<form action=\"https://github.com/\" target=\"_blank\">\n",
    "    <button>Переход по ссылке</button>\n",
    "</form>"
   ]
  },
  {
   "cell_type": "markdown",
   "metadata": {},
   "source": [
    "! Одну форму нельзя вкладывать внутрь другой. Перед добавлением кнопки убедитесь что у вас только одна форма."
   ]
  },
  {
   "cell_type": "markdown",
   "metadata": {},
   "source": [
    "## Использование CSS\n",
    "\n",
    "Раз кнопку нельзя сделать ссылкой, то вообще отказываемся от `<button>` и стилизуем ссылку, чтобы она стала похожа на кнопку. В примере 2 показан класс `btn`, при добавлении его к элементу `<a>` ссылка меняет своё оформление."
   ]
  },
  {
   "cell_type": "markdown",
   "metadata": {},
   "source": [
    "### Пример 2. Стилизация ссылки"
   ]
  },
  {
   "cell_type": "code",
   "execution_count": 2,
   "metadata": {
    "dotnet_interactive": {
     "language": "html"
    },
    "polyglot_notebook": {
     "kernelName": "html"
    },
    "vscode": {
     "languageId": "polyglot-notebook"
    }
   },
   "outputs": [
    {
     "data": {
      "text/html": [
       "<style>\r\n",
       ".btn {\r\n",
       "    display: inline-block; /* Строчно-блочный элемент */\r\n",
       "    background: #8C959D; /* Серый цвет фона */\r\n",
       "    color: #fff; /* Белый цвет текста */\r\n",
       "    padding: 1rem 1.5rem; /* Поля вокруг текста */\r\n",
       "    text-decoration: none; /* Убираем подчёркивание */\r\n",
       "    border-radius: 3px; /* Скругляем уголки */\r\n",
       "}\r\n",
       "</style>\r\n",
       "\r\n",
       "<a href=\"https://github.com/\" class=\"btn\">Переход по ссылке</a>"
      ]
     },
     "metadata": {},
     "output_type": "display_data"
    }
   ],
   "source": [
    "<style>\n",
    ".btn {\n",
    "    display: inline-block; /* Строчно-блочный элемент */\n",
    "    background: #8C959D; /* Серый цвет фона */\n",
    "    color: #fff; /* Белый цвет текста */\n",
    "    padding: 1rem 1.5rem; /* Поля вокруг текста */\n",
    "    text-decoration: none; /* Убираем подчёркивание */\n",
    "    border-radius: 3px; /* Скругляем уголки */\n",
    "}\n",
    "</style>\n",
    "\n",
    "<a href=\"https://github.com/\" class=\"btn\">Переход по ссылке</a>"
   ]
  },
  {
   "cell_type": "markdown",
   "metadata": {},
   "source": [
    "## Использование JavaScript\n",
    "\n",
    "Для перехода к указанной веб-странице можно воспользоваться событием `onclick`, добавляя его к элементу `<button>`. Внутри `onclick` пишем `document.location`, а в качестве значения адрес желаемой веб-страницы (пример 3). Обратите внимание на комбинацию кавычек, адрес веб-страницы берётся в одинарные кавычки."
   ]
  },
  {
   "cell_type": "markdown",
   "metadata": {},
   "source": [
    "### Пример 3. Событие `onclick`"
   ]
  },
  {
   "cell_type": "code",
   "execution_count": 3,
   "metadata": {
    "dotnet_interactive": {
     "language": "html"
    },
    "polyglot_notebook": {
     "kernelName": "html"
    },
    "vscode": {
     "languageId": "polyglot-notebook"
    }
   },
   "outputs": [
    {
     "data": {
      "text/html": [
       "<button onclick=\"document.location='https://github.com/'\">Переход по ссылке</button>"
      ]
     },
     "metadata": {},
     "output_type": "display_data"
    }
   ],
   "source": [
    "<button onclick=\"document.location='https://github.com/'\">Переход по ссылке</button>"
   ]
  }
 ],
 "metadata": {
  "kernelspec": {
   "display_name": ".NET (C#)",
   "language": "C#",
   "name": ".net-csharp"
  },
  "language_info": {
   "name": "python"
  },
  "polyglot_notebook": {
   "kernelInfo": {
    "defaultKernelName": "csharp",
    "items": [
     {
      "aliases": [],
      "name": "csharp"
     }
    ]
   }
  }
 },
 "nbformat": 4,
 "nbformat_minor": 2
}
