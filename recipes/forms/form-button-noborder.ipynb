{
 "cells": [
  {
   "cell_type": "markdown",
   "metadata": {},
   "source": [
    "# Как убрать рамку у кнопок?\n",
    "\n",
    "По умолчанию, браузер добавляет к кнопкам рамку, которая меняет свой стиль при изменении цвета фона кнопки. Вот как выглядит такая кнопка:"
   ]
  },
  {
   "cell_type": "code",
   "execution_count": 1,
   "metadata": {
    "dotnet_interactive": {
     "language": "html"
    },
    "polyglot_notebook": {
     "kernelName": "html"
    },
    "vscode": {
     "languageId": "polyglot-notebook"
    }
   },
   "outputs": [
    {
     "data": {
      "text/html": [
       "<button>Кнопка</button>"
      ]
     },
     "metadata": {},
     "output_type": "display_data"
    }
   ],
   "source": [
    "<button>Кнопка</button>"
   ]
  },
  {
   "cell_type": "markdown",
   "metadata": {},
   "source": [
    "Сама рамка устанавливается через универсальное свойство `border`, оно одновременно определяет толщину рамки, её стиль и цвет. Соответственно, чтобы у кнопки убрать рамку есть три способа:\n",
    "\n",
    "* задать нулевую толщину рамки;\n",
    "* указать стиль рамки как `none` или `hidden`;\n",
    "* установить прозрачный цвет рамки."
   ]
  },
  {
   "cell_type": "markdown",
   "metadata": {},
   "source": [
    "## Толщина рамки\n",
    "\n",
    "Используем свойство `border-width` с нулевым значением или универсальное border (пример 1).\n",
    "\n",
    "### Пример 1. Нулевая толщина рамки"
   ]
  },
  {
   "cell_type": "code",
   "execution_count": 4,
   "metadata": {
    "dotnet_interactive": {
     "language": "html"
    },
    "polyglot_notebook": {
     "kernelName": "html"
    },
    "vscode": {
     "languageId": "polyglot-notebook"
    }
   },
   "outputs": [
    {
     "data": {
      "text/html": [
       "<style>\r\n",
       ".example-1 > button {\r\n",
       "    padding: 1em 2em; /* Расстояние от текста до края */\r\n",
       "    background-color: #22a5cf; /* Цвет фона */\r\n",
       "    color: #fff; /* Цвет текста */\r\n",
       "    border: 0; /* Убираем рамку */\r\n",
       "}\r\n",
       "</style>\r\n",
       "\r\n",
       "<div class=\"example-1\">\r\n",
       "    <button>Кнопка</button>\r\n",
       "</div>"
      ]
     },
     "metadata": {},
     "output_type": "display_data"
    }
   ],
   "source": [
    "<style>\n",
    ".example-1 > button {\n",
    "    padding: 1em 2em; /* Расстояние от текста до края */\n",
    "    background-color: #22a5cf; /* Цвет фона */\n",
    "    color: #fff; /* Цвет текста */\n",
    "    border: 0; /* Убираем рамку */\n",
    "}\n",
    "</style>\n",
    "\n",
    "<div class=\"example-1\">\n",
    "    <button>Кнопка</button>\n",
    "</div>"
   ]
  },
  {
   "cell_type": "markdown",
   "metadata": {},
   "source": [
    "## Стиль рамки\n",
    "\n",
    "За стиль рамки отвечает свойство `border-style` или, опять же, универсальное `border`. В качестве значения указываем `none` или `hidden` (пример 2).\n",
    "\n",
    "### Пример 2. Меняем стиль рамки\n",
    "\n",
    "В данном примере сперва задаём параметры рамки, но делаем её прозрачной через `transparent`. Затем в псевдоклассе `:hover` устанавливаем желаемый цвет рамки, который будет проявляться при наведении на кнопку."
   ]
  },
  {
   "cell_type": "code",
   "execution_count": 5,
   "metadata": {
    "dotnet_interactive": {
     "language": "html"
    },
    "polyglot_notebook": {
     "kernelName": "html"
    },
    "vscode": {
     "languageId": "polyglot-notebook"
    }
   },
   "outputs": [
    {
     "data": {
      "text/html": [
       "<style>\r\n",
       ".example-2 > button {\r\n",
       " padding: 1em 2em; /* Расстояние от текста до края */\r\n",
       " background-color: #137992; /* Цвет фона */\r\n",
       " color: #fff; /* Цвет текста */\r\n",
       " border: none; /* Убираем рамку */\r\n",
       "}\r\n",
       "</style>\r\n",
       "\r\n",
       "<div class=\"example-2\">\r\n",
       "    <button>Кнопка</button>\r\n",
       "</div>"
      ]
     },
     "metadata": {},
     "output_type": "display_data"
    }
   ],
   "source": [
    "<style>\n",
    ".example-2 > button {\n",
    " padding: 1em 2em; /* Расстояние от текста до края */\n",
    " background-color: #137992; /* Цвет фона */\n",
    " color: #fff; /* Цвет текста */\n",
    " border: none; /* Убираем рамку */\n",
    "}\n",
    "</style>\n",
    "\n",
    "<div class=\"example-2\">\n",
    "    <button>Кнопка</button>\n",
    "</div>"
   ]
  },
  {
   "cell_type": "markdown",
   "metadata": {},
   "source": [
    "## Прозрачный цвет\n",
    "\n",
    "В CSS для прозрачного цвета зарезервировано ключевое слово `transparent`. Так что для рамки пишем свойство `border-color` или `border` с этим значением.\n",
    "\n",
    "Прозрачный цвет рамки удобно задавать в ситуациях, когда рамка меняет свой цвет при наведении на кнопку курсора мыши или при щелчке по кнопке (пример 3).\n",
    "\n",
    "### Пример 3. Цвет рамки"
   ]
  },
  {
   "cell_type": "code",
   "execution_count": 7,
   "metadata": {
    "dotnet_interactive": {
     "language": "html"
    },
    "polyglot_notebook": {
     "kernelName": "html"
    },
    "vscode": {
     "languageId": "polyglot-notebook"
    }
   },
   "outputs": [
    {
     "data": {
      "text/html": [
       "<style>\r\n",
       "    .example-3 > button {\r\n",
       "        padding: 1em 2em; /* Расстояние от текста до края */\r\n",
       "        background-color: #137992; /* Цвет фона */\r\n",
       "        color: #fff; /* Цвет текста */\r\n",
       "        border: 3px solid transparent; /* Убираем рамку */\r\n",
       "        transition: 0.5s; /* Время перехода */\r\n",
       "    }\r\n",
       "    .example-3 > button:hover {\r\n",
       "        border-color: #feae01; /* Цвет рамки при наведении */\r\n",
       "    }\r\n",
       "</style>\r\n",
       "\r\n",
       "<div class=\"example-3\">\r\n",
       "    <button>Кнопка</button>\r\n",
       "</div>"
      ]
     },
     "metadata": {},
     "output_type": "display_data"
    }
   ],
   "source": [
    "<style>\n",
    "    .example-3 > button {\n",
    "        padding: 1em 2em; /* Расстояние от текста до края */\n",
    "        background-color: #137992; /* Цвет фона */\n",
    "        color: #fff; /* Цвет текста */\n",
    "        border: 3px solid transparent; /* Убираем рамку */\n",
    "        transition: 0.5s; /* Время перехода */\n",
    "    }\n",
    "    .example-3 > button:hover {\n",
    "        border-color: #feae01; /* Цвет рамки при наведении */\n",
    "    }\n",
    "</style>\n",
    "\n",
    "<div class=\"example-3\">\n",
    "    <button>Кнопка</button>\n",
    "</div>"
   ]
  }
 ],
 "metadata": {
  "kernelspec": {
   "display_name": ".NET (C#)",
   "language": "C#",
   "name": ".net-csharp"
  },
  "language_info": {
   "name": "python"
  },
  "polyglot_notebook": {
   "kernelInfo": {
    "defaultKernelName": "csharp",
    "items": [
     {
      "aliases": [],
      "name": "csharp"
     }
    ]
   }
  }
 },
 "nbformat": 4,
 "nbformat_minor": 2
}
