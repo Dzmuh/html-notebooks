{
 "cells": [
  {
   "cell_type": "markdown",
   "metadata": {},
   "source": [
    "# Как добавить тень к кнопке?\n",
    "\n",
    "Для добавления тени к кнопке применяется стилевое свойство `box-shadow`, которое пишется в правилах для селектора `button` или подходящего класса кнопки.\n",
    "\n",
    "```css\n",
    "button {\n",
    "    box-shadow: 0 0 5px rgba(0, 0, 0, 0.5);\n",
    "}\n",
    "```\n",
    "\n",
    "Само свойство содержит несколько параметров, из них только первые два являются обязательными, они задают положение тени относительно кнопки, см. рисунок:\n",
    "\n",
    "![Параметры box-shadow](../../images/box-shadow.svg \"Параметры box-shadow\")\n",
    "\n",
    "Положительные значения отбрасывают тень вправо и вниз:\n",
    "\n",
    "```css\n",
    "box-shadow: 3px 3px;\n",
    "```\n",
    "\n",
    "Отрицательные значения отбрасывают тень влево и вверх:\n",
    "\n",
    "```css\n",
    "box-shadow: -3px -3px;\n",
    "```\n",
    "\n",
    "Нулевые значения создают равномерную тень вокруг кнопки:\n",
    "\n",
    "```css\n",
    "box-shadow: 0 0;\n",
    "```\n",
    "\n",
    "Третий параметр задаёт степень размытия тени. Например, при значении 0 тень будет чёткой, а при значение 5px — мягкой и размытой.\n",
    "\n",
    "```css\n",
    "box-shadow: 0 0 5px;\n",
    "```\n",
    "\n",
    "Четвёртый параметр указывает цвет тени. Использование формата `rgba()` позволяет сделать тень полупрозрачной.\n",
    "\n",
    "В примере 1 показаны варианты кнопок с разными тенями, которые получаются за счёт изменения параметров свойства `box-shadow`.\n",
    "\n",
    "### Пример 1. Использование `box-shadow` для кнопок"
   ]
  },
  {
   "cell_type": "code",
   "execution_count": 1,
   "metadata": {
    "dotnet_interactive": {
     "language": "html"
    },
    "polyglot_notebook": {
     "kernelName": "html"
    },
    "vscode": {
     "languageId": "polyglot-notebook"
    }
   },
   "outputs": [
    {
     "data": {
      "text/html": [
       "<style>\r\n",
       "button {\r\n",
       "    padding: 0.5rem 1rem; /* Расстояние от текста до края */\r\n",
       "    margin-right: 1rem; /* Расстояние справа от кнопки */\r\n",
       "    margin-bottom: 1rem; /* Расстояние слева от кнопки */\r\n",
       "}\r\n",
       ".btn-shadow-1 {\r\n",
       "    box-shadow: 0 0 5px rgba(0, 0, 0, 0.5);\r\n",
       "}\r\n",
       ".btn-shadow-2 {\r\n",
       "    box-shadow: 3px 3px 5px rgba(0, 0, 0, 0.5);\r\n",
       "}\r\n",
       ".btn-shadow-3 {\r\n",
       "    box-shadow: -3px -3px 5px rgba(0, 0, 0, 0.5);\r\n",
       "}\r\n",
       ".btn-shadow-4 {\r\n",
       "    box-shadow: 3px 3px 0 rgba(0, 0, 0, 0.8);\r\n",
       "}\r\n",
       "</style>\r\n",
       "\r\n",
       "<button>Обычная кнопка</button>\r\n",
       "<button class=\"btn-shadow-1\">Кнопка с тенью</button>\r\n",
       "<button class=\"btn-shadow-2\">Кнопка с тенью</button>\r\n",
       "<button class=\"btn-shadow-3\">Кнопка с тенью</button>\r\n",
       "<button class=\"btn-shadow-4\">Кнопка с тенью</button>"
      ]
     },
     "metadata": {},
     "output_type": "display_data"
    }
   ],
   "source": [
    "<style>\n",
    "button {\n",
    "    padding: 0.5rem 1rem; /* Расстояние от текста до края */\n",
    "    margin-right: 1rem; /* Расстояние справа от кнопки */\n",
    "    margin-bottom: 1rem; /* Расстояние слева от кнопки */\n",
    "}\n",
    ".btn-shadow-1 {\n",
    "    box-shadow: 0 0 5px rgba(0, 0, 0, 0.5);\n",
    "}\n",
    ".btn-shadow-2 {\n",
    "    box-shadow: 3px 3px 5px rgba(0, 0, 0, 0.5);\n",
    "}\n",
    ".btn-shadow-3 {\n",
    "    box-shadow: -3px -3px 5px rgba(0, 0, 0, 0.5);\n",
    "}\n",
    ".btn-shadow-4 {\n",
    "    box-shadow: 3px 3px 0 rgba(0, 0, 0, 0.8);\n",
    "}\n",
    "</style>\n",
    "\n",
    "<button>Обычная кнопка</button>\n",
    "<button class=\"btn-shadow-1\">Кнопка с тенью</button>\n",
    "<button class=\"btn-shadow-2\">Кнопка с тенью</button>\n",
    "<button class=\"btn-shadow-3\">Кнопка с тенью</button>\n",
    "<button class=\"btn-shadow-4\">Кнопка с тенью</button>"
   ]
  }
 ],
 "metadata": {
  "kernelspec": {
   "display_name": ".NET (C#)",
   "language": "C#",
   "name": ".net-csharp"
  },
  "language_info": {
   "name": "python"
  },
  "polyglot_notebook": {
   "kernelInfo": {
    "defaultKernelName": "csharp",
    "items": [
     {
      "aliases": [],
      "name": "csharp"
     }
    ]
   }
  }
 },
 "nbformat": 4,
 "nbformat_minor": 2
}
