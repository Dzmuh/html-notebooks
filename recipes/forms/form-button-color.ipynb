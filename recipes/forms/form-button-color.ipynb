{
 "cells": [
  {
   "cell_type": "markdown",
   "metadata": {},
   "source": [
    "# Как изменить цвет кнопки?\n",
    "\n",
    "Для изменения цвета фона и текста кнопки используем, соответственно, свойства `background` и `color`, добавляя их к селектору `button`, как показано в примере 1."
   ]
  },
  {
   "cell_type": "markdown",
   "metadata": {},
   "source": [
    "## Пример 1. Цветные кнопки"
   ]
  },
  {
   "cell_type": "code",
   "execution_count": null,
   "metadata": {
    "dotnet_interactive": {
     "language": "html"
    },
    "polyglot_notebook": {
     "kernelName": "html"
    },
    "vscode": {
     "languageId": "polyglot-notebook"
    }
   },
   "outputs": [],
   "source": [
    "<style>\n",
    "button {\n",
    "    background: #008EB0; /* Синий цвет фона */\n",
    "    color: #fff; /* Белый цвет текста */\n",
    "    border: none; /* Убираем рамку */\n",
    "    padding: 1rem 1.5rem; /* Поля вокруг текста */\n",
    "    margin-bottom: 1rem; /* Отступ снизу */ \n",
    "}\n",
    ".green { \n",
    "    background: #73A353;\n",
    "}\n",
    ".red {\n",
    "    background: #C1172C\n",
    "}\n",
    ".orange {\n",
    "    background: #F7941E;\n",
    "}\n",
    "</style>\n",
    "\n",
    "<button>Синяя кнопка по умолчанию</button>\n",
    "<button class=\"green\">Зелёная кнопка</button>\n",
    "<button class=\"red\">Красная кнопка</button>\n",
    "<button class=\"orange\">Оранжевая кнопка</button>"
   ]
  }
 ],
 "metadata": {
  "kernelspec": {
   "display_name": ".NET (C#)",
   "language": "C#",
   "name": ".net-csharp"
  },
  "language_info": {
   "name": "python"
  },
  "polyglot_notebook": {
   "kernelInfo": {
    "defaultKernelName": "csharp",
    "items": [
     {
      "aliases": [],
      "name": "csharp"
     }
    ]
   }
  }
 },
 "nbformat": 4,
 "nbformat_minor": 2
}
