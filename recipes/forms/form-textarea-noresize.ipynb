{
 "cells": [
  {
   "cell_type": "markdown",
   "metadata": {},
   "source": [
    "# Как запретить изменение размеров `<textarea>`?\n",
    "\n",
    "В правом нижнем углу текстового поля `<textarea>` есть небольшой уголок (см. пример ниже) с помощью которого мышью можно изменить размеры поля."
   ]
  },
  {
   "cell_type": "code",
   "execution_count": 1,
   "metadata": {
    "dotnet_interactive": {
     "language": "html"
    },
    "polyglot_notebook": {
     "kernelName": "html"
    },
    "vscode": {
     "languageId": "polyglot-notebook"
    }
   },
   "outputs": [
    {
     "data": {
      "text/html": [
       "<textarea></textarea>"
      ]
     },
     "metadata": {},
     "output_type": "display_data"
    }
   ],
   "source": [
    "<textarea></textarea>"
   ]
  },
  {
   "cell_type": "markdown",
   "metadata": {},
   "source": [
    "Вид уголка в браузерах может различаться, но его функция остаётся одинаковой — если щёлкнуть мышью и потянуть за уголок, то можно изменить размеры поля. Чтобы запретить эту возможность, следует для селектора `textarea` задать свойство `resize` со значением none (пример 1).\n",
    "\n",
    "### Пример 1. Использование resize"
   ]
  },
  {
   "cell_type": "code",
   "execution_count": 2,
   "metadata": {
    "dotnet_interactive": {
     "language": "html"
    },
    "polyglot_notebook": {
     "kernelName": "html"
    },
    "vscode": {
     "languageId": "polyglot-notebook"
    }
   },
   "outputs": [
    {
     "data": {
      "text/html": [
       "<style>\r\n",
       ".simple > textarea {\r\n",
       "    width: 80%; /* Ширина поля в процентах */\r\n",
       "    height: 200px; /* Высота поля в пикселях */\r\n",
       "    resize: none; /* Запрещаем изменять размер */\r\n",
       "} \r\n",
       "</style>\r\n",
       "\r\n",
       "<div class=\"simple\">\r\n",
       "    <textarea></textarea>\r\n",
       "</div>"
      ]
     },
     "metadata": {},
     "output_type": "display_data"
    }
   ],
   "source": [
    "<style>\n",
    ".simple > textarea {\n",
    "    width: 80%; /* Ширина поля в процентах */\n",
    "    height: 200px; /* Высота поля в пикселях */\n",
    "    resize: none; /* Запрещаем изменять размер */\n",
    "} \n",
    "</style>\n",
    "\n",
    "<div class=\"simple\">\n",
    "    <textarea></textarea>\n",
    "</div>"
   ]
  }
 ],
 "metadata": {
  "kernelspec": {
   "display_name": ".NET (C#)",
   "language": "C#",
   "name": ".net-csharp"
  },
  "language_info": {
   "name": "python"
  },
  "polyglot_notebook": {
   "kernelInfo": {
    "defaultKernelName": "csharp",
    "items": [
     {
      "aliases": [],
      "name": "csharp"
     }
    ]
   }
  }
 },
 "nbformat": 4,
 "nbformat_minor": 2
}
