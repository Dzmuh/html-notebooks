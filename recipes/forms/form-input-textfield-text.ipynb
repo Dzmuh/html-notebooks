{
 "cells": [
  {
   "cell_type": "markdown",
   "metadata": {},
   "source": [
    "# Как сделать, чтобы в текстовом поле заранее выводился опредёленный текст?\n",
    "\n",
    "Для создания однострочного текстового поля применяется элемент `<input>`. Чтобы получилось не просто пустое поле, а поле с заранее выведенным текстом, нужно к `<input>` добавить атрибут `value` и ему присвоить желаемую строку, как показано в примере 1."
   ]
  },
  {
   "cell_type": "markdown",
   "metadata": {},
   "source": [
    "## Пример 1. Использование атрибута value"
   ]
  },
  {
   "cell_type": "code",
   "execution_count": 1,
   "metadata": {
    "dotnet_interactive": {
     "language": "html"
    },
    "polyglot_notebook": {
     "kernelName": "html"
    },
    "vscode": {
     "languageId": "polyglot-notebook"
    }
   },
   "outputs": [
    {
     "data": {
      "text/html": [
       "<form action=\"index.html\">\r\n",
       "    <p><input name=\"textfield\" value=\"Исходный текст\"></p>\r\n",
       "</form>"
      ]
     },
     "metadata": {},
     "output_type": "display_data"
    }
   ],
   "source": [
    "<form action=\"index.html\">\n",
    "    <p><input name=\"textfield\" value=\"Исходный текст\"></p>\n",
    "</form>"
   ]
  },
  {
   "cell_type": "markdown",
   "metadata": {},
   "source": [
    "### Пример 2. Текст в `<textarea>`\n",
    "\n",
    "Чтобы вставить текст в уже готовое многострочное текстовое поле, следует поместить текст между тегами `<textarea>` и `</textarea>`.\n",
    "\n",
    "Учтите, что все переносы строк и пробелы внутри `<textarea>` становятся значимыми и отображаются в текстовом поле «как есть»."
   ]
  },
  {
   "cell_type": "code",
   "execution_count": 5,
   "metadata": {
    "dotnet_interactive": {
     "language": "html"
    },
    "polyglot_notebook": {
     "kernelName": "html"
    },
    "vscode": {
     "languageId": "polyglot-notebook"
    }
   },
   "outputs": [
    {
     "data": {
      "text/html": [
       "<form method=\"post\" action=\"index.html\">\r\n",
       "<p><textarea name=\"textarea\" cols=\"40\" rows=\"5\">\r\n",
       "    Бар — песчаная подводная отмель; образуется в море на некотором расстоянии от устья реки под действием морских волн.\r\n",
       "</textarea></p>\r\n",
       "</form>"
      ]
     },
     "metadata": {},
     "output_type": "display_data"
    }
   ],
   "source": [
    "<form method=\"post\" action=\"index.html\">\n",
    "<p><textarea name=\"textarea\" cols=\"40\" rows=\"5\">\n",
    "    Бар — песчаная подводная отмель; образуется в море на некотором расстоянии от устья реки под действием морских волн.\n",
    "</textarea></p>\n",
    "</form>"
   ]
  }
 ],
 "metadata": {
  "kernelspec": {
   "display_name": ".NET (C#)",
   "language": "C#",
   "name": ".net-csharp"
  },
  "language_info": {
   "name": "python"
  },
  "polyglot_notebook": {
   "kernelInfo": {
    "defaultKernelName": "csharp",
    "items": [
     {
      "aliases": [],
      "name": "csharp"
     }
    ]
   }
  }
 },
 "nbformat": 4,
 "nbformat_minor": 2
}
