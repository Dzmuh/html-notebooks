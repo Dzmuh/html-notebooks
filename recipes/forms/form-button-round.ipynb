{
 "cells": [
  {
   "cell_type": "markdown",
   "metadata": {},
   "source": [
    "# Как сделать круглую кнопку?\n",
    "\n",
    "Круглая кнопка обычно используется в тех случаях, когда вместо текста на кнопке выводится иконка или одиночный символ. Вот некоторые ситуации, где использование круглых кнопок имеет смысл: навигация по страницам; управление аудио и видеоплеером, переключение между слайдами в карусели, отправка формы.\n",
    "\n",
    "Для создания такой кнопки удобнее воспользоваться элементом `<button>`, поскольку он позволяет вставлять непосредственно текстовый символ или картинку. Вот как на кнопке отобразить картинку в формате SVG.\n",
    "\n",
    "```html\n",
    "<button class=\"round\">\n",
    "  <img src=\"image/search.svg\" width=\"16\" height=\"16\" alt=\"Поиск\">\n",
    "</button>\n",
    "```\n",
    "\n",
    "Чтобы кнопка получилась именно круглой, в стилях для класса `.round` следует установить одинаковые ширину и высоту и задать радиус скругления 50% через свойство `border-radius`. Скругление каждого уголка на половину размера элемента и даст в итоге круг. У кнопки следует ещё убрать рамку через свойство `border`, её браузеры добавляют по умолчанию.\n",
    "\n",
    "```css\n",
    "button.round {\n",
    "    width: 30px; height: 30px; /* Размеры кнопки */\n",
    "    background-color: #e03e25; /* Цвет фона */\n",
    "    border-radius: 50%; /* Радиус скругления */\n",
    "    border: none; /* Убираем рамку вокруг кнопки */\n",
    "}\n",
    "```\n",
    "\n",
    "Само выравнивание картинки внутри `<button>` по вертикали или горизонтали делать не нужно, она и так окажется в центре кнопки. Окончательный код с полем для поиска и круглой кнопкой для отправки формы показан в примере 1.\n",
    "\n",
    "### Пример 1. Круглая кнопка"
   ]
  },
  {
   "cell_type": "code",
   "execution_count": 1,
   "metadata": {
    "dotnet_interactive": {
     "language": "html"
    },
    "polyglot_notebook": {
     "kernelName": "html"
    },
    "vscode": {
     "languageId": "polyglot-notebook"
    }
   },
   "outputs": [
    {
     "data": {
      "text/html": [
       "<style>\r\n",
       "input[type=search] {\r\n",
       "    height: 30px;\r\n",
       "}\r\n",
       "button.round {\r\n",
       "    width: 30px; height: 30px; /* Размеры кнопки */\r\n",
       "    background-color: #e03e25; /* Цвет фона */\r\n",
       "    border-radius: 50%; /* Радиус скругления */\r\n",
       "    border: none; /* Убираем рамку вокруг кнопки */\r\n",
       "    vertical-align: top; /* Выравнивание по верху */\r\n",
       "}\r\n",
       "</style>\r\n",
       "\r\n",
       "<form action=\"https://github.com/\">\r\n",
       "    <input type=\"search\" name=\"search\">\r\n",
       "    <button class=\"round\">\r\n",
       "        <img src=\"../../images/search.svg\" width=\"16\" height=\"16\" alt=\"Поиск\">\r\n",
       "    </button>\r\n",
       "</form>"
      ]
     },
     "metadata": {},
     "output_type": "display_data"
    }
   ],
   "source": [
    "<style>\n",
    "input[type=search] {\n",
    "    height: 30px;\n",
    "}\n",
    "button.round {\n",
    "    width: 30px; height: 30px; /* Размеры кнопки */\n",
    "    background-color: #e03e25; /* Цвет фона */\n",
    "    border-radius: 50%; /* Радиус скругления */\n",
    "    border: none; /* Убираем рамку вокруг кнопки */\n",
    "    vertical-align: top; /* Выравнивание по верху */\n",
    "}\n",
    "</style>\n",
    "\n",
    "<form action=\"https://github.com/\">\n",
    "    <input type=\"search\" name=\"search\">\n",
    "    <button class=\"round\">\n",
    "        <img src=\"../../images/search.svg\" width=\"16\" height=\"16\" alt=\"Поиск\">\n",
    "    </button>\n",
    "</form>"
   ]
  }
 ],
 "metadata": {
  "kernelspec": {
   "display_name": ".NET (C#)",
   "language": "C#",
   "name": ".net-csharp"
  },
  "language_info": {
   "name": "python"
  },
  "polyglot_notebook": {
   "kernelInfo": {
    "defaultKernelName": "csharp",
    "items": [
     {
      "aliases": [],
      "name": "csharp"
     }
    ]
   }
  }
 },
 "nbformat": 4,
 "nbformat_minor": 2
}
