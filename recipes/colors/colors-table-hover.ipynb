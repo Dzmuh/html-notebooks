{
 "cells": [
  {
   "cell_type": "markdown",
   "metadata": {},
   "source": [
    "# Как выделить цветом строку таблицы при наведении?\n",
    "\n",
    "Стиль строки таблицы при наведении на неё курсора мыши задаётся с помощью псевдокласса :hover, который добавляется к селектору tr. В правилах стиля добавляем свойство background для желаемого цвета фона и color для цвета текста."
   ]
  },
  {
   "cell_type": "code",
   "execution_count": 1,
   "metadata": {
    "dotnet_interactive": {
     "language": "html"
    },
    "polyglot_notebook": {
     "kernelName": "html"
    },
    "vscode": {
     "languageId": "polyglot-notebook"
    }
   },
   "outputs": [
    {
     "data": {
      "text/html": [
       "<style>\r\n",
       "table {\r\n",
       "    width: 100%; /* Ширина таблицы */\r\n",
       "    border-collapse: collapse; /* Убираем двойные линии между ячейками */\r\n",
       "}\r\n",
       "td, th {\r\n",
       "    padding: 3px; /* Поля вокруг содержимого таблицы */\r\n",
       "    border: 1px solid #333; /* Параметры рамки */\r\n",
       "}\r\n",
       "tr:hover {\r\n",
       "    background: #65994c; /* Цвет фона при наведении */\r\n",
       "    color: #fff; /* Цвет текста при наведении */\r\n",
       "}\r\n",
       "</style>\r\n",
       "\r\n",
       "<table>\r\n",
       "    <tr>\r\n",
       "        <td>Рубины</td><td>43</td><td>51</td><td>79</td>\r\n",
       "    </tr>\r\n",
       "    <tr>\r\n",
       "        <td>Изумруды</td><td>28</td><td>34</td><td>48</td>\r\n",
       "    </tr>\r\n",
       "    <tr>\r\n",
       "        <td>Сапфиры</td><td>29</td><td>57</td><td>36</td>\r\n",
       "    </tr>\r\n",
       "</table>"
      ]
     },
     "metadata": {},
     "output_type": "display_data"
    }
   ],
   "source": [
    "<style>\n",
    "table {\n",
    "    width: 100%; /* Ширина таблицы */\n",
    "    border-collapse: collapse; /* Убираем двойные линии между ячейками */\n",
    "}\n",
    "td, th {\n",
    "    padding: 3px; /* Поля вокруг содержимого таблицы */\n",
    "    border: 1px solid #333; /* Параметры рамки */\n",
    "}\n",
    "tr:hover {\n",
    "    background: #65994c; /* Цвет фона при наведении */\n",
    "    color: #fff; /* Цвет текста при наведении */\n",
    "}\n",
    "</style>\n",
    "\n",
    "<table>\n",
    "    <tr>\n",
    "        <td>Рубины</td><td>43</td><td>51</td><td>79</td>\n",
    "    </tr>\n",
    "    <tr>\n",
    "        <td>Изумруды</td><td>28</td><td>34</td><td>48</td>\n",
    "    </tr>\n",
    "    <tr>\n",
    "        <td>Сапфиры</td><td>29</td><td>57</td><td>36</td>\n",
    "    </tr>\n",
    "</table>"
   ]
  }
 ],
 "metadata": {
  "kernelspec": {
   "display_name": "Python 3",
   "language": "python",
   "name": "python3"
  },
  "language_info": {
   "name": "python",
   "version": "3.12.4"
  },
  "polyglot_notebook": {
   "kernelInfo": {
    "defaultKernelName": "csharp",
    "items": [
     {
      "aliases": [],
      "name": "csharp"
     }
    ]
   }
  }
 },
 "nbformat": 4,
 "nbformat_minor": 2
}
