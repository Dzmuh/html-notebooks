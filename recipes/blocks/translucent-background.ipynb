{
 "cells": [
  {
   "cell_type": "markdown",
   "metadata": {},
   "source": [
    "# Как сделать фон полупрозрачным?\n",
    "\n",
    "Для создания цветного фона разной степени прозрачности применяется свойство background или background-color, в качестве значения указывается функция `rgba()`, в которой цвет задаётся четырьмя параметрами: красная, зелёная, синяя составляющая цвета и уровень прозрачности. Значение `0` соответствует полной прозрачности, `1` — непрозрачности, а промежуточное значение вроде `0.5` — полупрозрачности.\n",
    "\n",
    "Чтобы полупрозрачность элемента была заметна, под него следует подложить фоновую картинку. В примере `1` для веб-страницы установлено фиксированное фоновое изображение и добавлен `<div>` с классом `overlay`, для которого задан белый фон с уровнем прозрачности `0.8`.\n",
    "\n",
    "### Пример 1. Использование rgba()"
   ]
  },
  {
   "cell_type": "code",
   "execution_count": 23,
   "metadata": {
    "dotnet_interactive": {
     "language": "html"
    },
    "polyglot_notebook": {
     "kernelName": "html"
    },
    "vscode": {
     "languageId": "polyglot-notebook"
    }
   },
   "outputs": [
    {
     "data": {
      "text/html": [
       "<style>\r\n",
       "div.demo {\r\n",
       "    /* Параметры демонстрационного блока */\r\n",
       "    height: 261px;\r\n",
       "    width: 262px;\r\n",
       "    padding: 1rem;\r\n",
       "    /* Параметры фонового изображения */\r\n",
       "    background: url(../../images/bobr.png) center / cover no-repeat;\r\n",
       "}\r\n",
       ".overlay {\r\n",
       "    background: rgba(255, 255, 255, 0.8); /* Полупрозрачный фон */\r\n",
       "    padding: 1rem; /* Поля вокруг текста */\r\n",
       "    border-radius: 5px; /* Радиус скругления */\r\n",
       "}\r\n",
       "</style>\r\n",
       "<div class=\"demo\">\r\n",
       "    <div class=\"overlay\">\r\n",
       "    <b>Бобер курва, япердоле!, <i>Bóbr Kurwa ja pierdole</i></b> — мем, происходящий от весьма забавного звучания монолога про бобра на польском языке. \r\n",
       "    </div>\r\n",
       "</div>"
      ]
     },
     "metadata": {},
     "output_type": "display_data"
    }
   ],
   "source": [
    "<style>\n",
    "div.demo {\n",
    "    /* Параметры демонстрационного блока */\n",
    "    height: 261px;\n",
    "    width: 262px;\n",
    "    padding: 1rem;\n",
    "    /* Параметры фонового изображения */\n",
    "    background: url(../../images/bobr.png) center / cover no-repeat;\n",
    "}\n",
    ".overlay {\n",
    "    background: rgba(255, 255, 255, 0.8); /* Полупрозрачный фон */\n",
    "    padding: 1rem; /* Поля вокруг текста */\n",
    "    border-radius: 5px; /* Радиус скругления */\n",
    "}\n",
    "</style>\n",
    "<div class=\"demo\">\n",
    "    <div class=\"overlay\">\n",
    "    <b>Бобер курва, япердоле!, <i>Bóbr Kurwa ja pierdole</i></b> — мем, происходящий от весьма забавного звучания монолога про бобра на польском языке. \n",
    "    </div>\n",
    "</div>"
   ]
  },
  {
   "cell_type": "markdown",
   "metadata": {},
   "source": [
    "## Смотрите также\n",
    "\n",
    "* [Пример №1 выполненный к целой странице](./translucent-background.html) — картинка применена к целой странице и зафиксирована и при изменении размера страницы не деформируется."
   ]
  }
 ],
 "metadata": {
  "kernelspec": {
   "display_name": ".NET (C#)",
   "language": "C#",
   "name": ".net-csharp"
  },
  "language_info": {
   "name": "python"
  },
  "polyglot_notebook": {
   "kernelInfo": {
    "defaultKernelName": "csharp",
    "items": [
     {
      "aliases": [],
      "name": "csharp"
     }
    ]
   }
  }
 },
 "nbformat": 4,
 "nbformat_minor": 2
}
