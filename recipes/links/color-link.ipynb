{
 "cells": [
  {
   "cell_type": "markdown",
   "metadata": {},
   "source": [
    "# Как задать цвет ссылок?\n",
    "\n",
    "Для изменения цвета ссылок используйте стилевое свойство `color`, добавляя его к селектору `A`, как показано в примере 1."
   ]
  },
  {
   "cell_type": "markdown",
   "metadata": {
    "dotnet_interactive": {
     "language": "csharp"
    },
    "polyglot_notebook": {
     "kernelName": "csharp"
    }
   },
   "source": [
    "### Пример 1. Изменение цвета ссылок\n"
   ]
  },
  {
   "cell_type": "code",
   "execution_count": 1,
   "metadata": {
    "dotnet_interactive": {
     "language": "html"
    },
    "polyglot_notebook": {
     "kernelName": "html"
    },
    "vscode": {
     "languageId": "polyglot-notebook"
    }
   },
   "outputs": [
    {
     "data": {
      "text/html": [
       "<style>\r\n",
       "a {\r\n",
       "    color: green; /* Цвет текста */\r\n",
       "}\r\n",
       "</style>\r\n",
       "\r\n",
       "<p>\r\n",
       "    Для сборки <a href=\"page/techinfo.html\">мегадроида</a> требуется открыть коробку, достать мешочек с микросхемами и сложить их в нужном порядке,\r\n",
       "    пользуясь нашим подробным 8631-страничным  <a href=\"page/help.html\">руководством</a>.\r\n",
       "</p>"
      ]
     },
     "metadata": {},
     "output_type": "display_data"
    }
   ],
   "source": [
    "<style>\n",
    "a {\n",
    "    color: green; /* Цвет текста */\n",
    "}\n",
    "</style>\n",
    "\n",
    "<p>\n",
    "    Для сборки <a href=\"page/techinfo.html\">мегадроида</a> требуется открыть коробку, достать мешочек с микросхемами и сложить их в нужном порядке,\n",
    "    пользуясь нашим подробным 8631-страничным  <a href=\"page/help.html\">руководством</a>.\n",
    "</p>"
   ]
  }
 ],
 "metadata": {
  "kernelspec": {
   "display_name": ".NET (C#)",
   "language": "C#",
   "name": ".net-csharp"
  },
  "language_info": {
   "name": "python"
  },
  "polyglot_notebook": {
   "kernelInfo": {
    "defaultKernelName": "csharp",
    "items": [
     {
      "aliases": [],
      "name": "csharp"
     }
    ]
   }
  }
 },
 "nbformat": 4,
 "nbformat_minor": 2
}
