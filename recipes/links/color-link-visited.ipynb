{
 "cells": [
  {
   "cell_type": "markdown",
   "metadata": {},
   "source": [
    "# Как задать цвет посещённых ссылок?\n",
    "\n",
    "Как только пользователь открывает ссылку, она помечается как посещённая и меняет свой цвет на фиолетовый, установленный по умолчанию. Чтобы задать вид оформления посещённых ссылок, используйте псевдокласс `:visited`, который добавляется к селектору `A`, как показано в примере 1."
   ]
  },
  {
   "cell_type": "code",
   "execution_count": 4,
   "metadata": {
    "dotnet_interactive": {
     "language": "html"
    },
    "polyglot_notebook": {
     "kernelName": "html"
    },
    "vscode": {
     "languageId": "polyglot-notebook"
    }
   },
   "outputs": [
    {
     "data": {
      "text/html": [
       "<style>\r\n",
       "a {\r\n",
       "    color: #A02932; /* Цвет обычной ссылки */\r\n",
       "}\r\n",
       "a:visited {\r\n",
       "    color: #9FA4AF; /* Цвет посещённой ссылки */\r\n",
       "}\r\n",
       "</style>\r\n",
       "\r\n",
       "<p><a href=\"https://www.google.com/\">Обычная ссылка</a></p>\r\n",
       "<p><a href=\"https://www.google.pl/\">Щёлкните по ссылке</a>, чтобы она стала посещённой.</p>"
      ]
     },
     "metadata": {},
     "output_type": "display_data"
    }
   ],
   "source": [
    "<style>\n",
    "a {\n",
    "    color: #A02932; /* Цвет обычной ссылки */\n",
    "}\n",
    "a:visited {\n",
    "    color: #9FA4AF; /* Цвет посещённой ссылки */\n",
    "}\n",
    "</style>\n",
    "\n",
    "<p><a href=\"https://www.google.com/\">Обычная ссылка</a></p>\n",
    "<p><a href=\"https://www.google.pl/\">Щёлкните по ссылке</a>, чтобы она стала посещённой.</p>"
   ]
  }
 ],
 "metadata": {
  "kernelspec": {
   "display_name": ".NET (C#)",
   "language": "C#",
   "name": ".net-csharp"
  },
  "language_info": {
   "name": "python"
  },
  "polyglot_notebook": {
   "kernelInfo": {
    "defaultKernelName": "csharp",
    "items": [
     {
      "aliases": [],
      "name": "csharp"
     }
    ]
   }
  }
 },
 "nbformat": 4,
 "nbformat_minor": 2
}
