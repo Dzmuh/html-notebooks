{
 "cells": [
  {
   "cell_type": "markdown",
   "metadata": {},
   "source": [
    "# Как сделать градиентную рамку?\n",
    "\n",
    "Градиентная рамка — это элемент веб-дизайна, который представляет собой рамку с плавным переходом от одного цвета к другому или в виде штриховки.\n",
    "\n",
    "Для создания подобных рамок применяется несколько методов."
   ]
  },
  {
   "cell_type": "markdown",
   "metadata": {},
   "source": [
    "## Использование border-image\n",
    "\n",
    "Свойство `border-image` устанавливает для рамки изображение, в качестве которого может выступать, в том числе, линейный (функция `linear-gradient()`), радиальный (функция `radial-gradient()`) или повторяющийся градиент (например, `repeating-linear-gradient()`).\n",
    "\n",
    "Сперва устанавливается сплошная рамка заданной толщины через свойство `border`:\n",
    "\n",
    "```css\n",
    "border: 15px solid red;\n",
    "```\n",
    "\n",
    "Цвет рамки можно поставить произвольный, в дальнейшем он будет переопределён градиентом, который добавляется к свойству `border-image`. К примеру, для градиента, идущего к правому нижнему углу, от чёрного до оранжевого цвета пишем следующее:\n",
    "\n",
    "```css\n",
    "border-image: linear-gradient(to right bottom, black, orange);\n",
    "```\n",
    "\n",
    "Ниже добавляем свойство border-image-slice со значением, равным толщине нашей рамки. Обратите внимание, что число пишется без указания каких-либо единиц:\n",
    "\n",
    "```css\n",
    "border-image-slice: 15;\n",
    "```\n",
    "\n",
    "Код для градиента в виде штриховки показан в примере 1."
   ]
  },
  {
   "cell_type": "markdown",
   "metadata": {},
   "source": [
    "### Пример 1. Свойство border-image для создания штриховки\n"
   ]
  },
  {
   "cell_type": "code",
   "execution_count": 2,
   "metadata": {
    "dotnet_interactive": {
     "language": "html"
    },
    "polyglot_notebook": {
     "kernelName": "html"
    },
    "vscode": {
     "languageId": "polyglot-notebook"
    }
   },
   "outputs": [
    {
     "data": {
      "text/html": [
       "<style>\r\n",
       ".gradient {\r\n",
       "    border: 15px solid #9b59b6; /* Параметры рамки */\r\n",
       "    border-image: repeating-linear-gradient(-45deg, /* Градиент */\r\n",
       "    #9b59b6, #9b59b6 10px, /* Фиолетовый цвет */\r\n",
       "    #b283c5 10px, #b283c5 20px); /* Светло-фиолетовый */\r\n",
       "    border-image-slice: 15; /* Равно толщине рамки */\r\n",
       "    padding: 1em; /* Расстояние от текста до рамки */\r\n",
       "}\r\n",
       "</style>\r\n",
       "\r\n",
       "<div class=\"gradient\">\r\n",
       "<b>Австралия</b> — это островное государство и континент, расположенное между Индийским и Тихим океанами.\r\n",
       "Столица — Канберра. Население составляет около 25 миллионов человек.\r\n",
       "</div>"
      ]
     },
     "metadata": {},
     "output_type": "display_data"
    }
   ],
   "source": [
    "<style>\n",
    ".gradient {\n",
    "    border: 15px solid #9b59b6; /* Параметры рамки */\n",
    "    border-image: repeating-linear-gradient(-45deg, /* Градиент */\n",
    "    #9b59b6, #9b59b6 10px, /* Фиолетовый цвет */\n",
    "    #b283c5 10px, #b283c5 20px); /* Светло-фиолетовый */\n",
    "    border-image-slice: 15; /* Равно толщине рамки */\n",
    "    padding: 1em; /* Расстояние от текста до рамки */\n",
    "}\n",
    "</style>\n",
    "\n",
    "<div class=\"gradient\">\n",
    "<b>Австралия</b> — это островное государство и континент, расположенное между Индийским и Тихим океанами.\n",
    "Столица — Канберра. Население составляет около 25 миллионов человек.\n",
    "</div>"
   ]
  },
  {
   "cell_type": "markdown",
   "metadata": {},
   "source": [
    "У этого метода есть небольшой недостаток — свойство border-radius, добавляющее скруглённые уголки, для подобной рамки не работает."
   ]
  },
  {
   "cell_type": "markdown",
   "metadata": {},
   "source": [
    "## Использование псевдоэлементов\n",
    "\n",
    "Псевдоэлементы `::before` и `::after` позволяют создать дополнительный пустой элемент, которым можно управлять с помощью свойств позиционирования.\n",
    "\n",
    "Сперва для всего элемента в качестве фона ставится произвольный градиент. Затем поверх элемента накладывается псевдоэлемент чуть меньшего размера с белым фоном. Он перекрывает элемент, оставляя его часть по краям, тем самым имитируя рамку. Общий принцип становится понятнее, если оставить фон полупрозрачным.\n",
    "\n",
    "В примере 2 показано, как с помощью `::after` создать псевдоэлемент и позиционировать его."
   ]
  },
  {
   "cell_type": "markdown",
   "metadata": {},
   "source": [
    "### Пример 2. Использование `::after` для создания рамки"
   ]
  },
  {
   "cell_type": "code",
   "execution_count": 7,
   "metadata": {
    "dotnet_interactive": {
     "language": "html"
    },
    "polyglot_notebook": {
     "kernelName": "html"
    },
    "vscode": {
     "languageId": "polyglot-notebook"
    }
   },
   "outputs": [
    {
     "data": {
      "text/html": [
       "<style>\r\n",
       ".gradient-2 { \r\n",
       "    --b: 12px; /* Толщина рамки */\r\n",
       "    background: repeating-linear-gradient(45deg, #dadadc, #dadadc 20px, #0057ce 20px, #0057ce 40px); /* Градиент */\r\n",
       "    border-radius: 10px; /* Радиус скругления */\r\n",
       "    position: relative; /* Относительное позиционирование */\r\n",
       "    z-index: 2;\r\n",
       "    padding: 1.2em; /* Расстояние от текста до края */\r\n",
       "}\r\n",
       ".gradient-2::after {\r\n",
       "    content: ''; /* Пустое содержимое */\r\n",
       "    background: rgba(255,255,255,0.95); /* Полупрозрачный белый цвет */\r\n",
       "    border-radius: 5px; /* Радиус скругления */\r\n",
       "    position: absolute; /* Абсолютное позиционирование */\r\n",
       "    left: var(--b); right: var(--b); top: var(--b); bottom: var(--b); /* Положение псевдоэлемента */\r\n",
       "    z-index: -1; /* Размещаем ниже текста */\r\n",
       "}\r\n",
       "</style>\r\n",
       "\r\n",
       "<div class=\"gradient-2\">\r\n",
       "<b>Австралия</b> — это островное государство и континент, расположенное между Индийским и Тихим океанами.\r\n",
       "Столица — Канберра. Население составляет около 25 миллионов человек.\r\n",
       "</div>"
      ]
     },
     "metadata": {},
     "output_type": "display_data"
    }
   ],
   "source": [
    "<style>\n",
    ".gradient-2 { \n",
    "    --b: 12px; /* Толщина рамки */\n",
    "    background: repeating-linear-gradient(45deg, #dadadc, #dadadc 20px, #0057ce 20px, #0057ce 40px); /* Градиент */\n",
    "    border-radius: 10px; /* Радиус скругления */\n",
    "    position: relative; /* Относительное позиционирование */\n",
    "    z-index: 2;\n",
    "    padding: 1.2em; /* Расстояние от текста до края */\n",
    "}\n",
    ".gradient-2::after {\n",
    "    content: ''; /* Пустое содержимое */\n",
    "    background: rgba(255,255,255,0.95); /* Полупрозрачный белый цвет */\n",
    "    border-radius: 5px; /* Радиус скругления */\n",
    "    position: absolute; /* Абсолютное позиционирование */\n",
    "    left: var(--b); right: var(--b); top: var(--b); bottom: var(--b); /* Положение псевдоэлемента */\n",
    "    z-index: -1; /* Размещаем ниже текста */\n",
    "}\n",
    "</style>\n",
    "\n",
    "<div class=\"gradient-2\">\n",
    "<b>Австралия</b> — это островное государство и континент, расположенное между Индийским и Тихим океанами.\n",
    "Столица — Канберра. Население составляет около 25 миллионов человек.\n",
    "</div>"
   ]
  },
  {
   "cell_type": "markdown",
   "metadata": {},
   "source": [
    "Данный метод позволяет делать скругление внешних и внутренних уголков, но требует заливки псевдоэлемента каким-либо цветом."
   ]
  },
  {
   "cell_type": "markdown",
   "metadata": {},
   "source": [
    "## Использование background\n",
    "\n",
    "Свойство `background` достаточно универсально и позволяет установить несколько фонов и задать их параметры. Так что делаем два фона: один с градиентом, другой сплошной белый и накладываем их друг на друга.\n",
    "\n",
    "Белый цвет нельзя указать в виде слова (`white`) или шестнадцатеричного значения (`#fff`), потому как за цвет фона и градиента отвечают разные свойства:\n",
    "\n",
    "```css\n",
    "background-color: white;\n",
    "background-image: linear-gradient(#f19a10, #25ac5e);\n",
    "```\n",
    "\n",
    "Чтобы скомбинировать эти значения в одном свойстве `background`, белый цвет можно задать в виде градиента следующим образом:\n",
    "\n",
    "```css\n",
    "background-image: linear-gradient(#fff, #fff);\n",
    "```\n",
    "\n",
    "Для каждого из двух наших фонов надо установить ещё свойство `background-clip`:\n",
    "\n",
    "```css\n",
    "background-clip: padding-box /* Для белого фона, чтобы он не рисовался под рамкой */\n",
    "background-clip: border-box /* Для градиента, чтобы он начинался под рамкой */\n",
    "```\n",
    "\n",
    "Осталось соединить все параметры фона воедино в качестве значения свойства `background`:\n",
    "\n",
    "```css\n",
    "background:\n",
    "    linear-gradient(#fff, #fff) padding-box,\n",
    "    linear-gradient(45deg, #f19a10, #25ac5e) border-box;\n",
    "```\n",
    "\n",
    "И добавить рамку желаемой толщины с прозрачным цветом:\n",
    "\n",
    "```css\n",
    "border: 12px solid transparent;\n",
    "```\n",
    "\n",
    "Окончательный код показан в примере 3."
   ]
  },
  {
   "cell_type": "markdown",
   "metadata": {},
   "source": [
    "### Пример 3. Градиентная рамка"
   ]
  },
  {
   "cell_type": "code",
   "execution_count": 9,
   "metadata": {
    "dotnet_interactive": {
     "language": "html"
    },
    "polyglot_notebook": {
     "kernelName": "html"
    },
    "vscode": {
     "languageId": "polyglot-notebook"
    }
   },
   "outputs": [
    {
     "data": {
      "text/html": [
       "<style>\r\n",
       ".gradient-3 {\r\n",
       "    border: 12px solid transparent; /* Параметры рамки */\r\n",
       "    background: \r\n",
       "        linear-gradient(#fff, #fff) padding-box, /* Белый фон */\r\n",
       "        linear-gradient(45deg, #f19a10, #25ac5e) border-box; /* Градиентная рамка */\r\n",
       "        border-radius: 10px; /* Радиус скругления */\r\n",
       "    padding: 1em; /* Расстояние от текста до рамки */\r\n",
       "}\r\n",
       "</style>\r\n",
       "\r\n",
       "<div class=\"gradient-3\">\r\n",
       "<b>Австралия</b> — это островное государство и континент, расположенное между Индийским и Тихим океанами.\r\n",
       "Столица — Канберра. Население составляет около 25 миллионов человек.\r\n",
       "</div>"
      ]
     },
     "metadata": {},
     "output_type": "display_data"
    }
   ],
   "source": [
    "<style>\n",
    ".gradient-3 {\n",
    "    border: 12px solid transparent; /* Параметры рамки */\n",
    "    background: \n",
    "        linear-gradient(#fff, #fff) padding-box, /* Белый фон */\n",
    "        linear-gradient(45deg, #f19a10, #25ac5e) border-box; /* Градиентная рамка */\n",
    "        border-radius: 10px; /* Радиус скругления */\n",
    "    padding: 1em; /* Расстояние от текста до рамки */\n",
    "}\n",
    "</style>\n",
    "\n",
    "<div class=\"gradient-3\">\n",
    "<b>Австралия</b> — это островное государство и континент, расположенное между Индийским и Тихим океанами.\n",
    "Столица — Канберра. Население составляет около 25 миллионов человек.\n",
    "</div>"
   ]
  }
 ],
 "metadata": {
  "kernelspec": {
   "display_name": ".NET (C#)",
   "language": "C#",
   "name": ".net-csharp"
  },
  "language_info": {
   "name": "python"
  },
  "polyglot_notebook": {
   "kernelInfo": {
    "defaultKernelName": "csharp",
    "items": [
     {
      "aliases": [],
      "name": "csharp"
     }
    ]
   }
  }
 },
 "nbformat": 4,
 "nbformat_minor": 2
}
