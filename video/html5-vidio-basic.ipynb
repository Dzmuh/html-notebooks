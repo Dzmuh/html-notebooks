{
 "cells": [
  {
   "cell_type": "markdown",
   "metadata": {},
   "source": [
    "# Примеры использования элемента &lt;video&gt; в HTML5"
   ]
  },
  {
   "cell_type": "markdown",
   "metadata": {},
   "source": [
    "## Для FireFox, Chrome и производных"
   ]
  },
  {
   "cell_type": "code",
   "execution_count": null,
   "metadata": {
    "dotnet_interactive": {
     "language": "html"
    },
    "polyglot_notebook": {
     "language": "csharp"
    },
    "vscode": {
     "languageId": "dotnet-interactive.html"
    }
   },
   "outputs": [],
   "source": [
    "<video controls=\"controls\">\n",
    "    <source src=\"dizzy.ogv\" type=\"video/ogg\" />\n",
    "</video>"
   ]
  },
  {
   "cell_type": "markdown",
   "metadata": {},
   "source": [
    "## Для FireFox (динамичный вариант) с двумя кнопками\n",
    "\n",
    "Этот код требует включённого JavaScript в браузере."
   ]
  },
  {
   "cell_type": "code",
   "execution_count": null,
   "metadata": {
    "dotnet_interactive": {
     "language": "html"
    },
    "vscode": {
     "languageId": "dotnet-interactive.html"
    }
   },
   "outputs": [],
   "source": [
    "<video id=\"MyVideo1\" controls=\"controls\" tabindex=\"0\">\n",
    "    <source type=\"video/ogg\" src=\"dizzy.ogv\" />\n",
    "</video>\n",
    "<p>Две кнопки: \n",
    "    <button onclick=\"document.getElementById('MyVideo1').pause();\" type=\"button\">Пауза</button>\n",
    "    <button onclick=\"document.getElementById('MyVideo1').play();\" type=\"button\">Смотреть</button>\n",
    "</p>"
   ]
  },
  {
   "cell_type": "markdown",
   "metadata": {},
   "source": [
    "## Для FireFox (динамичный вариант) с одной кнопкой\n",
    "\n",
    "Этот код требует включённого JavaScript в браузере."
   ]
  },
  {
   "cell_type": "code",
   "execution_count": null,
   "metadata": {
    "dotnet_interactive": {
     "language": "html"
    },
    "vscode": {
     "languageId": "dotnet-interactive.html"
    }
   },
   "outputs": [],
   "source": [
    "<video id=\"MyVideo2\" controls=\"controls\" tabindex=\"0\">\n",
    "    <source type=\"video/ogg\" src=\"dizzy.ogv\"></source>\n",
    "</video>\n",
    "<button onclick=\"video = document.getElementById('MyVideo2');if (video.paused){\n",
    "    this.innerHTML='Пауза'; video.play();\n",
    "    }else{\n",
    "    this.innerHTML='Смотреть'; video.pause();\n",
    "    }\"\n",
    "type=\"button\">Смотреть</button>"
   ]
  }
 ],
 "metadata": {
  "kernelspec": {
   "display_name": ".NET (C#)",
   "language": "C#",
   "name": ".net-csharp"
  },
  "language_info": {
   "name": "C#"
  }
 },
 "nbformat": 4,
 "nbformat_minor": 2
}
